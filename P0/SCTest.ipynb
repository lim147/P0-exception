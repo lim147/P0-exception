{
 "cells": [
  {
   "cell_type": "markdown",
   "metadata": {},
   "source": [
    "### P0 Scanner Tests\n",
    "\n",
    "#### Original Author: Emil Sekerinski, McMaster University, revised February 2022\n",
    "\n",
    "Tests scanner output and produces all scanner error messages."
   ]
  },
  {
   "cell_type": "code",
   "execution_count": 17,
   "metadata": {},
   "outputs": [],
   "source": [
    "import nbimporter; nbimporter.options[\"only_defs\"] = False\n",
    "from P0 import compileString\n",
    "import SC"
   ]
  },
  {
   "cell_type": "markdown",
   "metadata": {},
   "source": [
    "Procedure `scanString` collects the symbols recognized by the scanner into a list. The list consists of pair with `SC.sym` and `SC.newline`; other variables of `SC` like `SC.val`, `SC.pos`, etc. are not included, but the code can easily be modified."
   ]
  },
  {
   "cell_type": "code",
   "execution_count": 2,
   "metadata": {},
   "outputs": [],
   "source": [
    "from SC import TIMES, DIV, MOD, AND, PLUS, MINUS, OR, EQ, NE, LT, GT, \\\n",
    "    LE, GE, PERIOD, COMMA, COLON, NOT, LPAREN, RPAREN, LBRAK, RBRAK, \\\n",
    "    LARROW, RARROW, LBRACE, RBRACE, CARD, COMPLEMENT, UNION, INTERSECTION, \\\n",
    "    ELEMENT, SUBSET, SUPERSET, DOTDOT, THEN, DO, BECOMES, NUMBER, IDENT, \\\n",
    "    SEMICOLON, ELSE, IF, WHILE, CONST, TYPE, VAR, SET, PROCEDURE, PROGRAM, \\\n",
    "    INDENT, DEDENT, EOF\n",
    "\n",
    "symbol = {IDENT: 'IDENT', NUMBER: 'NUMBER', TIMES: 'TIMES', DIV: 'DIV', MOD: 'MOD',\n",
    "    PLUS: 'PLUS', MINUS: 'MINUS', AND: 'AND', OR: 'OR', EQ: 'EQ', NE: 'NE',\n",
    "    LT: 'LT', GT: 'GT', LE: 'LE', GE: 'GE', SEMICOLON: 'SEMICOLON', COMMA: 'COMMA',\n",
    "    COLON: 'COLON', BECOMES: 'BECOMES', PERIOD: 'PERIOD', DOTDOT: 'DOTDOT',\n",
    "    NOT: 'NOT', LPAREN: 'LPAREN', RPAREN: 'RPAREN', LBRAK: 'LBRAK', RBRAK: 'RBRAK',\n",
    "    LBRACE: 'LBRACE', RBRACE: 'RBRACE', LARROW: 'LARROW', RARROW: 'RARROW', CARD: 'CARD',\n",
    "    COMPLEMENT: 'COMPLEMENT', UNION: 'UNION', INTERSECTION: 'INTERSECTION',\n",
    "    ELEMENT: 'ELEMENT', SUBSET: 'SUBSET', SUPERSET: 'SUPERSET', IF: 'IF', THEN: 'THEN',\n",
    "    ELSE: 'ELSE', WHILE: 'WHILE', DO: 'DO', CONST: 'CONST', TYPE: 'TYPE', VAR: 'VAR',\n",
    "    SET: 'SET', PROCEDURE: 'PROCEDURE', PROGRAM: 'PROGRAM', INDENT: 'INDENT',\n",
    "    DEDENT: 'DEDENT', EOF: 'EOF'}\n",
    "\n",
    "def scanString(src): # for a more readable scanner output\n",
    "    SC.init(src); syms = []\n",
    "    while SC.sym != SC.EOF:\n",
    "        syms.append((symbol[SC.sym], SC.newline))\n",
    "        SC.getSym()\n",
    "    return syms"
   ]
  },
  {
   "cell_type": "code",
   "execution_count": 3,
   "metadata": {},
   "outputs": [
    {
     "data": {
      "text/plain": [
       "[('PROGRAM', True),\n",
       " ('IDENT', False),\n",
       " ('INDENT', False),\n",
       " ('IF', True),\n",
       " ('IDENT', False),\n",
       " ('THEN', False),\n",
       " ('INDENT', False),\n",
       " ('IDENT', True),\n",
       " ('LPAREN', False),\n",
       " ('RPAREN', False),\n",
       " ('DEDENT', False),\n",
       " ('ELSE', True),\n",
       " ('INDENT', True),\n",
       " ('IDENT', True),\n",
       " ('LPAREN', False),\n",
       " ('RPAREN', False),\n",
       " ('DEDENT', False),\n",
       " ('IF', True),\n",
       " ('IDENT', False),\n",
       " ('THEN', False),\n",
       " ('IDENT', False),\n",
       " ('LPAREN', False),\n",
       " ('RPAREN', False),\n",
       " ('ELSE', False),\n",
       " ('IDENT', False),\n",
       " ('LPAREN', False),\n",
       " ('RPAREN', False),\n",
       " ('DEDENT', False)]"
      ]
     },
     "execution_count": 3,
     "metadata": {},
     "output_type": "execute_result"
    }
   ],
   "source": [
    "scanString(\"\"\"\n",
    "\n",
    "program p\n",
    "\n",
    "  if a then\n",
    "    writeln()\n",
    "  else\n",
    "    writeln()\n",
    "  if a then writeln() else writeln()\n",
    "\"\"\")"
   ]
  },
  {
   "cell_type": "code",
   "execution_count": 4,
   "metadata": {},
   "outputs": [
    {
     "data": {
      "text/plain": [
       "[('TYPE', True),\n",
       " ('IDENT', False),\n",
       " ('EQ', False),\n",
       " ('LBRAK', False),\n",
       " ('NUMBER', False),\n",
       " ('DOTDOT', False),\n",
       " ('NUMBER', False),\n",
       " ('RBRAK', False),\n",
       " ('RARROW', False),\n",
       " ('IDENT', False),\n",
       " ('VAR', True),\n",
       " ('IDENT', False),\n",
       " ('COLON', False),\n",
       " ('IDENT', False),\n",
       " ('PROCEDURE', True),\n",
       " ('IDENT', False),\n",
       " ('LPAREN', False),\n",
       " ('RPAREN', False),\n",
       " ('INDENT', False),\n",
       " ('IDENT', True),\n",
       " ('LBRAK', False),\n",
       " ('NUMBER', False),\n",
       " ('RBRAK', False),\n",
       " ('BECOMES', False),\n",
       " ('NUMBER', False),\n",
       " ('DEDENT', False),\n",
       " ('PROGRAM', True),\n",
       " ('IDENT', False),\n",
       " ('INDENT', False),\n",
       " ('IDENT', True),\n",
       " ('LBRAK', False),\n",
       " ('NUMBER', False),\n",
       " ('RBRAK', False),\n",
       " ('BECOMES', False),\n",
       " ('NUMBER', False),\n",
       " ('DEDENT', False)]"
      ]
     },
     "execution_count": 4,
     "metadata": {},
     "output_type": "execute_result"
    }
   ],
   "source": [
    "scanString(\"\"\"\n",
    "type T = [1..10] → integer\n",
    "var a: T\n",
    "procedure r()\n",
    "    a[3] := 9\n",
    "program p\n",
    "  a[3] := 9\n",
    "\"\"\")"
   ]
  },
  {
   "cell_type": "code",
   "execution_count": 5,
   "metadata": {},
   "outputs": [
    {
     "data": {
      "text/plain": [
       "[('PROGRAM', True),\n",
       " ('IDENT', True),\n",
       " ('BECOMES', False),\n",
       " ('NUMBER', False),\n",
       " ('IF', True),\n",
       " ('IDENT', False),\n",
       " ('THEN', False),\n",
       " ('INDENT', False),\n",
       " ('IF', True),\n",
       " ('IDENT', False),\n",
       " ('THEN', False),\n",
       " ('INDENT', False),\n",
       " ('IDENT', True),\n",
       " ('BECOMES', False),\n",
       " ('IDENT', False),\n",
       " ('DEDENT', False),\n",
       " ('DEDENT', False),\n",
       " ('IDENT', True),\n",
       " ('BECOMES', False),\n",
       " ('NUMBER', False)]"
      ]
     },
     "execution_count": 5,
     "metadata": {},
     "output_type": "execute_result"
    }
   ],
   "source": [
    "scanString(\"\"\"\n",
    "program\n",
    "y := 5\n",
    "if a then\n",
    "  if b then\n",
    "    a := b\n",
    "x := 3\n",
    "\"\"\")"
   ]
  },
  {
   "cell_type": "code",
   "execution_count": 6,
   "metadata": {},
   "outputs": [
    {
     "data": {
      "text/plain": [
       "[('PROGRAM', True),\n",
       " ('IDENT', False),\n",
       " ('INDENT', False),\n",
       " ('WHILE', True),\n",
       " ('NUMBER', False),\n",
       " ('GT', False),\n",
       " ('NUMBER', False),\n",
       " ('DO', False),\n",
       " ('INDENT', False),\n",
       " ('IDENT', True),\n",
       " ('LPAREN', False),\n",
       " ('NUMBER', False),\n",
       " ('RPAREN', False),\n",
       " ('DEDENT', False),\n",
       " ('DEDENT', False)]"
      ]
     },
     "execution_count": 6,
     "metadata": {},
     "output_type": "execute_result"
    }
   ],
   "source": [
    "scanString(\"\"\"\n",
    "program p\n",
    "  while 2 > 3 do\n",
    "    write(1)\n",
    "\"\"\")"
   ]
  },
  {
   "cell_type": "code",
   "execution_count": 7,
   "metadata": {},
   "outputs": [
    {
     "data": {
      "text/plain": [
       "[('PROGRAM', True),\n",
       " ('IDENT', False),\n",
       " ('INDENT', False),\n",
       " ('IDENT', True),\n",
       " ('LPAREN', False),\n",
       " ('RPAREN', False),\n",
       " ('DEDENT', False)]"
      ]
     },
     "execution_count": 7,
     "metadata": {},
     "output_type": "execute_result"
    }
   ],
   "source": [
    "scanString(\"\"\"// comment 1\n",
    "program p     // comment 2\n",
    "  writeln()   // comment 3\n",
    "              // comment 4\n",
    "\"\"\")"
   ]
  },
  {
   "cell_type": "markdown",
   "metadata": {},
   "source": [
    "#### Error \"number too large\""
   ]
  },
  {
   "cell_type": "code",
   "execution_count": 13,
   "metadata": {},
   "outputs": [
    {
     "ename": "NameError",
     "evalue": "name 'compileerr' is not defined",
     "output_type": "error",
     "traceback": [
      "\u001b[0;31m---------------------------------------------------------------------------\u001b[0m",
      "\u001b[0;31mNameError\u001b[0m                                 Traceback (most recent call last)",
      "\u001b[0;32m<ipython-input-13-c21269ee3c44>\u001b[0m in \u001b[0;36m<module>\u001b[0;34m\u001b[0m\n\u001b[0;32m----> 1\u001b[0;31m assert \"WASM: set too large\" in compileerr(\"\"\"\n\u001b[0m\u001b[1;32m      2\u001b[0m \u001b[0mconst\u001b[0m \u001b[0mc\u001b[0m \u001b[0;34m=\u001b[0m \u001b[0;36m12345678901234567890\u001b[0m\u001b[0;34m\u001b[0m\u001b[0;34m\u001b[0m\u001b[0m\n\u001b[1;32m      3\u001b[0m \"\"\"\n\u001b[1;32m      4\u001b[0m )\n",
      "\u001b[0;31mNameError\u001b[0m: name 'compileerr' is not defined"
     ]
    }
   ],
   "source": [
    "assert \"WASM: set too large\" in compileerr(\"\"\"\n",
    "const c = 12345678901234567890\n",
    "\"\"\"\n",
    ")"
   ]
  },
  {
   "cell_type": "code",
   "execution_count": 12,
   "metadata": {},
   "outputs": [
    {
     "ename": "Exception",
     "evalue": "line 2 pos 30 number too large",
     "output_type": "error",
     "traceback": [
      "\u001b[0;31m---------------------------------------------------------------------------\u001b[0m",
      "\u001b[0;31mException\u001b[0m                                 Traceback (most recent call last)",
      "\u001b[0;32m~/05 Construction of a Parser/P0.ipynb\u001b[0m in \u001b[0;36mcompileString\u001b[0;34m(src, dstfn, target)\u001b[0m\n\u001b[1;32m      7\u001b[0m    },\n\u001b[0;32m----> 8\u001b[0;31m    \"source\": [\n\u001b[0m\u001b[1;32m      9\u001b[0m     \u001b[0;34m\"## The P0 Compiler\\n\"\u001b[0m\u001b[0;34m,\u001b[0m\u001b[0;34m\u001b[0m\u001b[0;34m\u001b[0m\u001b[0m\n",
      "\u001b[0;32m~/05 Construction of a Parser/P0.ipynb\u001b[0m in \u001b[0;36mprogram\u001b[0;34m()\u001b[0m\n\u001b[1;32m      9\u001b[0m     \u001b[0;34m\"## The P0 Compiler\\n\"\u001b[0m\u001b[0;34m,\u001b[0m\u001b[0;34m\u001b[0m\u001b[0;34m\u001b[0m\u001b[0m\n\u001b[0;32m---> 10\u001b[0;31m     \u001b[0;34m\"#### COMP SCI 4TB3/6TB3, McMaster University\\n\"\u001b[0m\u001b[0;34m,\u001b[0m\u001b[0;34m\u001b[0m\u001b[0;34m\u001b[0m\u001b[0m\n\u001b[0m\u001b[1;32m     11\u001b[0m     \u001b[0;34m\"#### Emil Sekerinski, revised February 2022\"\u001b[0m\u001b[0;34m\u001b[0m\u001b[0;34m\u001b[0m\u001b[0m\n",
      "\u001b[0;32m~/05 Construction of a Parser/P0.ipynb\u001b[0m in \u001b[0;36mdeclarations\u001b[0;34m(allocVar)\u001b[0m\n\u001b[1;32m      5\u001b[0m    \"metadata\": {\n\u001b[0;32m----> 6\u001b[0;31m     \u001b[0;34m\"hidePrompt\"\u001b[0m\u001b[0;34m:\u001b[0m \u001b[0mtrue\u001b[0m\u001b[0;34m\u001b[0m\u001b[0;34m\u001b[0m\u001b[0m\n\u001b[0m\u001b[1;32m      7\u001b[0m    },\n",
      "\u001b[0;32m~/05 Construction of a Parser/SC.ipynb\u001b[0m in \u001b[0;36mgetSym\u001b[0;34m()\u001b[0m\n\u001b[1;32m     18\u001b[0m     \u001b[0;34m\"- procedure `mark(msg)` prints an error message at the current location in the source.\\n\"\u001b[0m\u001b[0;34m,\u001b[0m\u001b[0;34m\u001b[0m\u001b[0;34m\u001b[0m\u001b[0m\n\u001b[0;32m---> 19\u001b[0;31m     \u001b[0;34m\"\\n\"\u001b[0m\u001b[0;34m,\u001b[0m\u001b[0;34m\u001b[0m\u001b[0;34m\u001b[0m\u001b[0m\n\u001b[0m\u001b[1;32m     20\u001b[0m     \u001b[0;34m\"Symbols are encoded by integer constants.\"\u001b[0m\u001b[0;34m\u001b[0m\u001b[0;34m\u001b[0m\u001b[0m\n",
      "\u001b[0;32m~/05 Construction of a Parser/SC.ipynb\u001b[0m in \u001b[0;36mnumber\u001b[0;34m()\u001b[0m\n\u001b[1;32m      6\u001b[0m    \"source\": [\n\u001b[0;32m----> 7\u001b[0;31m     \u001b[0;34m\"## P0 Scanner\\n\"\u001b[0m\u001b[0;34m,\u001b[0m\u001b[0;34m\u001b[0m\u001b[0;34m\u001b[0m\u001b[0m\n\u001b[0m\u001b[1;32m      8\u001b[0m     \u001b[0;34m\"#### Emil Sekerinski, revised February 2022\"\u001b[0m\u001b[0;34m\u001b[0m\u001b[0;34m\u001b[0m\u001b[0m\n",
      "\u001b[0;32m~/05 Construction of a Parser/SC.ipynb\u001b[0m in \u001b[0;36mmark\u001b[0;34m(msg)\u001b[0m\n\u001b[1;32m      1\u001b[0m {\n\u001b[0;32m----> 2\u001b[0;31m  \"cells\": [\n\u001b[0m\u001b[1;32m      3\u001b[0m   {\n",
      "\u001b[0;31mException\u001b[0m: line 2 pos 30 number too large",
      "\nDuring handling of the above exception, another exception occurred:\n",
      "\u001b[0;31mException\u001b[0m                                 Traceback (most recent call last)",
      "\u001b[0;32m<ipython-input-12-c2bfca376e5a>\u001b[0m in \u001b[0;36m<module>\u001b[0;34m\u001b[0m\n\u001b[0;32m----> 1\u001b[0;31m compileString(\"\"\"\n\u001b[0m\u001b[1;32m      2\u001b[0m \u001b[0mconst\u001b[0m \u001b[0mc\u001b[0m \u001b[0;34m=\u001b[0m \u001b[0;36m12345678901234567890\u001b[0m\u001b[0;34m\u001b[0m\u001b[0;34m\u001b[0m\u001b[0m\n\u001b[1;32m      3\u001b[0m \"\"\")\n",
      "\u001b[0;32m~/05 Construction of a Parser/P0.ipynb\u001b[0m in \u001b[0;36mcompileString\u001b[0;34m(src, dstfn, target)\u001b[0m\n\u001b[1;32m     11\u001b[0m     \u001b[0;34m\"#### Emil Sekerinski, revised February 2022\"\u001b[0m\u001b[0;34m\u001b[0m\u001b[0;34m\u001b[0m\u001b[0m\n\u001b[1;32m     12\u001b[0m    ]\n\u001b[0;32m---> 13\u001b[0;31m   },\n\u001b[0m\u001b[1;32m     14\u001b[0m   {\n\u001b[1;32m     15\u001b[0m    \u001b[0;34m\"cell_type\"\u001b[0m\u001b[0;34m:\u001b[0m \u001b[0;34m\"markdown\"\u001b[0m\u001b[0;34m,\u001b[0m\u001b[0;34m\u001b[0m\u001b[0;34m\u001b[0m\u001b[0m\n",
      "\u001b[0;31mException\u001b[0m: line 2 pos 30 number too large"
     ]
    }
   ],
   "source": [
    "compileString(\"\"\"\n",
    "const c = 12345678901234567890\n",
    "\"\"\")"
   ]
  },
  {
   "cell_type": "markdown",
   "metadata": {},
   "source": [
    "#### Error \"illegal character\""
   ]
  },
  {
   "cell_type": "code",
   "execution_count": null,
   "metadata": {},
   "outputs": [],
   "source": [
    "compileString(\"\"\"\n",
    "program p_\n",
    "  writeln()\n",
    "\"\"\")"
   ]
  }
 ],
 "metadata": {
  "kernelspec": {
   "display_name": "Python 3",
   "language": "python",
   "name": "python3"
  },
  "language_info": {
   "codemirror_mode": {
    "name": "ipython",
    "version": 3
   },
   "file_extension": ".py",
   "mimetype": "text/x-python",
   "name": "python",
   "nbconvert_exporter": "python",
   "pygments_lexer": "ipython3",
   "version": "3.8.8"
  },
  "toc": {
   "base_numbering": 1,
   "nav_menu": {},
   "number_sections": false,
   "sideBar": false,
   "skip_h1_title": true,
   "title_cell": "Table of Contents",
   "title_sidebar": "Contents",
   "toc_cell": false,
   "toc_position": {},
   "toc_section_display": true,
   "toc_window_display": false
  }
 },
 "nbformat": 4,
 "nbformat_minor": 2
}
