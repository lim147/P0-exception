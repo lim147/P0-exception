{
 "cells": [
  {
   "cell_type": "code",
   "execution_count": 1,
   "metadata": {},
   "outputs": [
    {
     "name": "stdout",
     "output_type": "stream",
     "text": [
      "Importing Jupyter notebook from P0.ipynb\n",
      "Importing Jupyter notebook from SC.ipynb\n",
      "Importing Jupyter notebook from ST.ipynb\n"
     ]
    }
   ],
   "source": [
    "import nbimporter; nbimporter.options[\"only_defs\"] = False\n",
    "from P0 import compileString\n",
    "from ST import printSymTab\n",
    "\n",
    "def runpywasm(wasmfile):\n",
    "    import pywasm\n",
    "    def write(s, i): print(i)\n",
    "    def writeln(s): print('\\n')\n",
    "    def read(s): return int(input())\n",
    "    vm = pywasm.load(wasmfile, {'P0lib': {'write': write, 'writeln': writeln, 'read': read}})"
   ]
  },
  {
   "cell_type": "markdown",
   "metadata": {},
   "source": [
    "### Scanner Tests for Exception"
   ]
  },
  {
   "cell_type": "code",
   "execution_count": 2,
   "metadata": {},
   "outputs": [],
   "source": [
    "import SC\n",
    "def scanString(src):\n",
    "    SC.init(src); syms = []\n",
    "    while SC.sym != SC.EOF:\n",
    "        syms.append(('INDENT' if SC.sym == SC.INDENT else \\\n",
    "                     'DEDENT' if SC.sym == SC.DEDENT else \\\n",
    "                     'IDENT' if SC.sym == SC.IDENT else SC.sym, SC.newline))\n",
    "        SC.getSym()\n",
    "    return syms"
   ]
  },
  {
   "cell_type": "code",
   "execution_count": null,
   "metadata": {},
   "outputs": [],
   "source": [
    "scanString(\"\"\"\n",
    "\n",
    "program p\n",
    "\n",
    "  if a then\n",
    "    writeln()\n",
    "  else\n",
    "    writeln()\n",
    "  if a then writeln() else writeln()\n",
    "\"\"\")"
   ]
  },
  {
   "cell_type": "markdown",
   "metadata": {},
   "source": [
    "### Compiler Tests for Exception"
   ]
  },
  {
   "cell_type": "code",
   "execution_count": 4,
   "metadata": {},
   "outputs": [
    {
     "name": "stdout",
     "output_type": "stream",
     "text": [
      "(module\n",
      "(import \"P0lib\" \"write\" (func $write (param i32)))\n",
      "(import \"P0lib\" \"writeln\" (func $writeln))\n",
      "(import \"P0lib\" \"read\" (func $read (result i32)))\n",
      "(func $sqrt (param $x i32) (result i32)\n",
      "(local $r i32)\n",
      "(local $0 i32)\n",
      "local.get $x\n",
      "i32.const 0\n",
      "i32.lt_s\n",
      "if\n",
      "throw 0\n",
      "else\n",
      "local.get $x\n",
      "local.set $r\n",
      "end\n",
      "local.get $r)\n",
      "(func $program\n",
      "(local $a i32)\n",
      "(local $0 i32)\n",
      "i32.const 2\n",
      "call $sqrt\n",
      "local.set $a\n",
      "local.get $a\n",
      "call $write\n",
      ")\n",
      "(memory 1)\n",
      "(start $program)\n",
      ")\n"
     ]
    }
   ],
   "source": [
    "# \"Throw\" can be compiled，but the WebAssembly Code is incorrect\n",
    "compileString(\"\"\"\n",
    "procedure sqrt(x: integer) → (r: integer)\n",
    "    if x < 0 then throw else r := x\n",
    "program equationsolver\n",
    "    var a: integer\n",
    "        a ← sqrt(2)\n",
    "        write(a)\n",
    "\"\"\")"
   ]
  },
  {
   "cell_type": "code",
   "execution_count": 10,
   "metadata": {},
   "outputs": [
    {
     "name": "stdout",
     "output_type": "stream",
     "text": [
      "\u001b[1mtest.wat:12:1: \u001b[31merror: \u001b[0mopcode not allowed: throw\r\n",
      "throw 0\r\n",
      "\u001b[1m\u001b[32m^^^^^\u001b[0m\r\n"
     ]
    }
   ],
   "source": [
    "!wat2wasm test.wat"
   ]
  },
  {
   "cell_type": "code",
   "execution_count": null,
   "metadata": {},
   "outputs": [],
   "source": [
    "compileString(\"\"\"\n",
    "procedure sqrt(x: integer) → (r: integer)\n",
    "    if x < 0 then r := 0 else r := x\n",
    "program equationsolver\n",
    "    var a: integer\n",
    "        a ← sqrt(2)\n",
    "        write(a)\n",
    "\"\"\")"
   ]
  },
  {
   "cell_type": "code",
   "execution_count": null,
   "metadata": {},
   "outputs": [],
   "source": [
    "compileString(\"\"\"\n",
    "procedure sqrt(x: integer) → (r: integer)\n",
    "    if x < 0 then throw else ...\n",
    "procedure quadraticsolution(a, b, c: integer) → (x, y: integer)\n",
    "    var d: integer\n",
    "        d ← sqrt(a × a - 4 × a × c)\n",
    "        x, y := (- b + d) div (2 × a), (- b - d) div (2 × a)\n",
    "program equationsolver\n",
    "    var a, b, c: integer; done: boolean\n",
    "        done := false\n",
    "        while ¬done do\n",
    "            try\n",
    "                a ← read(); b ← read(); c ← read()\n",
    "                x, y ← quadraticsolution(a, b, c)\n",
    "                write(x); write(y)\n",
    "           catch done := true\n",
    "\"\"\")"
   ]
  },
  {
   "cell_type": "code",
   "execution_count": null,
   "metadata": {},
   "outputs": [],
   "source": []
  },
  {
   "cell_type": "code",
   "execution_count": null,
   "metadata": {},
   "outputs": [],
   "source": []
  }
 ],
 "metadata": {
  "kernelspec": {
   "display_name": "Python 3",
   "language": "python",
   "name": "python3"
  },
  "language_info": {
   "codemirror_mode": {
    "name": "ipython",
    "version": 3
   },
   "file_extension": ".py",
   "mimetype": "text/x-python",
   "name": "python",
   "nbconvert_exporter": "python",
   "pygments_lexer": "ipython3",
   "version": "3.8.8"
  }
 },
 "nbformat": 4,
 "nbformat_minor": 4
}
