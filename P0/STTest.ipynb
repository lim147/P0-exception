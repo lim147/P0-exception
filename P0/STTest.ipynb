{
 "cells": [
  {
   "cell_type": "markdown",
   "metadata": {},
   "source": [
    "### P0 Symbol Table Tests\n",
    "\n",
    "#### Original Author: Emil Sekerinski, McMaster University, revised March 2021"
   ]
  },
  {
   "cell_type": "code",
   "execution_count": null,
   "metadata": {},
   "outputs": [],
   "source": [
    "import nbimporter; nbimporter.options[\"only_defs\"] = False\n",
    "from P0 import compileString\n",
    "from ST import printSymTab\n",
    "\n",
    "def runpywasm(wasmfile):\n",
    "    import pywasm\n",
    "    def write(s, i): print(i)\n",
    "    def writeln(s): print('\\n')\n",
    "    def read(s): return int(input())\n",
    "    vm = pywasm.load(wasmfile, {'P0lib': {'write': write, 'writeln': writeln, 'read': read}})"
   ]
  },
  {
   "cell_type": "markdown",
   "metadata": {},
   "source": [
    "#### Error \"multiple definition\""
   ]
  },
  {
   "cell_type": "code",
   "execution_count": null,
   "metadata": {},
   "outputs": [],
   "source": [
    "compileString(\"\"\"\n",
    "program p\n",
    "  const x = 9\n",
    "  var x : integer\n",
    "    x := 7\n",
    "\"\"\")"
   ]
  },
  {
   "cell_type": "markdown",
   "metadata": {},
   "source": [
    "#### Error \"undefined identifier\""
   ]
  },
  {
   "cell_type": "code",
   "execution_count": null,
   "metadata": {},
   "outputs": [],
   "source": [
    "compileString(\"\"\"\n",
    "program p\n",
    "  var y: bool\n",
    "    y := true\n",
    "\"\"\")"
   ]
  },
  {
   "cell_type": "markdown",
   "metadata": {},
   "source": [
    "#### Symbol Table Dump\n",
    "\n",
    "```\n",
    "Type(name = boolean, val = <class 'ST.Bool'>)\n",
    "Type(name = integer, val = <class 'ST.Int'>)\n",
    "Const(name = true, tp = <class 'ST.Bool'>, val = 1)\n",
    "Const(name = false, tp = <class 'ST.Bool'>, val = 0)\n",
    "StdProc(name = read, lev = 0, par = [], res = [Var(name = , lev = , tp = <class 'ST.Int'>)])\n",
    "StdProc(name = write, lev = 0, par = [Var(name = , lev = , tp = <class 'ST.Int'>)], res = [])\n",
    "StdProc(name = writeln, lev = 0, par = [], res = [])\n",
    "Const(name = N, tp = <class 'ST.Int'>, val = 10)\n",
    "Type(name = T, val = Array(lower = 1, length = 10, base = <class 'ST.Int'>))\n",
    "Var(name = x, lev = -2, tp = Array(lower = 1, length = 10, base = <class 'ST.Int'>))\n",
    "Var(name = y, lev = 0, tp = <class 'ST.Bool'>)\n",
    "Var(name = z, lev = -2, tp = Record(fields = [Var(name = f, lev = 1, tp = <class 'ST.Int'>), Var(name = g, lev = 1, tp = <class 'ST.Bool'>)]))\n",
    "Proc(name = q, lev = 0, par = [Var(name = v, lev = 1, tp = <class 'ST.Bool'>)], res = [Var(name = r, lev = 1, tp = <class 'ST.Int'>)])\n",
    "```"
   ]
  },
  {
   "cell_type": "code",
   "execution_count": null,
   "metadata": {},
   "outputs": [],
   "source": [
    "compileString(\"\"\"\n",
    "const N = 10\n",
    "type T =  [1 .. N] → integer\n",
    "var x: T\n",
    "var y: boolean\n",
    "var z: (f: integer, g: boolean)\n",
    "procedure q(v: boolean) → (r: integer)\n",
    "  var z: boolean\n",
    "    z := false\n",
    "program p\n",
    "  y := true\n",
    "\"\"\", \"/dev/null\") # discard target code\n",
    "printSymTab()"
   ]
  }
 ],
 "metadata": {
  "kernelspec": {
   "display_name": "Python 3",
   "language": "python",
   "name": "python3"
  },
  "language_info": {
   "codemirror_mode": {
    "name": "ipython",
    "version": 3
   },
   "file_extension": ".py",
   "mimetype": "text/x-python",
   "name": "python",
   "nbconvert_exporter": "python",
   "pygments_lexer": "ipython3",
   "version": "3.8.3"
  },
  "toc": {
   "base_numbering": 1,
   "nav_menu": {},
   "number_sections": false,
   "sideBar": false,
   "skip_h1_title": true,
   "title_cell": "Table of Contents",
   "title_sidebar": "Contents",
   "toc_cell": false,
   "toc_position": {},
   "toc_section_display": true,
   "toc_window_display": false
  }
 },
 "nbformat": 4,
 "nbformat_minor": 2
}
