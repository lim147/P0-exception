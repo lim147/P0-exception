{
 "cells": [
  {
   "cell_type": "markdown",
   "metadata": {},
   "source": [
    "# P0 with Exception Test Cases\n",
    "\n",
    "#### Author: Kevin Zhou, Fanping Jiang, Meijing Li"
   ]
  },
  {
   "cell_type": "code",
   "execution_count": null,
   "metadata": {},
   "outputs": [],
   "source": [
    "import nbimporter; nbimporter.options[\"only_defs\"] = False\n",
    "from IPython.display import display\n",
    "from P0 import compileString\n",
    "from ST import printSymTab\n",
    "\n",
    "def runwasm(wasmfile):\n",
    "    from IPython.core.display import display, Javascript\n",
    "    display(Javascript(\"\"\"\n",
    "    const params = { \n",
    "        P0lib: { \n",
    "            write: i => this.append_stream({text: '' + i, name: 'stdout'}),\n",
    "            writeln: () => this.append_stream({text: '\\\\n', name: 'stdout'}),\n",
    "            read: () => window.prompt()\n",
    "        }\n",
    "    }\n",
    "\n",
    "    fetch('\"\"\" + wasmfile + \"\"\"') // asynchronously fetch file, return Response object\n",
    "      .then(response => response.arrayBuffer()) // read the response to completion and stores it in an ArrayBuffer\n",
    "      .then(code => WebAssembly.compile(code)) // compile (sharable) code.wasm\n",
    "      .then(module => WebAssembly.instantiate(module, params)) // create an instance with memory\n",
    "    // .then(instance => instance.exports.program()); // run the main program; not needed if start function specified\n",
    "    \"\"\"))\n",
    "\n",
    "def runpywasm(wasmfile):\n",
    "    import pywasm\n",
    "    def write(s, i): print(i)\n",
    "    def writeln(s): print('\\n')\n",
    "    def read(s): return int(input())\n",
    "    vm = pywasm.load(wasmfile, {'P0lib': {'write': write, 'writeln': writeln, 'read': read}})\n",
    "\n",
    "    \n",
    "from wasmer import engine, Store, Module, Instance, ImportObject, Function\n",
    "from wasmer_compiler_cranelift import Compiler\n",
    "\n",
    "def runwasmer(wasmfile):\n",
    "    def write(i: int): print(i)\n",
    "    def writeln(): print('\\n')\n",
    "    def read() -> int: return int(input()) \n",
    "    store = Store(engine.JIT(Compiler))\n",
    "    module = Module(store, open(wasmfile, 'rb').read())\n",
    "    import_object = ImportObject()\n",
    "    import_object.register(\"P0lib\", {\"write\": Function(store, write),\n",
    "                                     \"writeln\": Function(store, writeln),\"read\": Function(store, read)})\n",
    "    instance = Instance(module, import_object)"
   ]
  },
  {
   "cell_type": "code",
   "execution_count": null,
   "metadata": {},
   "outputs": [],
   "source": [
    "import warnings\n",
    "warnings.filterwarnings(\"ignore\")"
   ]
  },
  {
   "cell_type": "markdown",
   "metadata": {},
   "source": [
    "### Scanner Tests for Exception"
   ]
  },
  {
   "cell_type": "code",
   "execution_count": null,
   "metadata": {},
   "outputs": [],
   "source": [
    "import SC\n",
    "def scanString(src):\n",
    "    SC.init(src); syms = []\n",
    "    while SC.sym != SC.EOF:\n",
    "        syms.append(('INDENT' if SC.sym == SC.INDENT else \\\n",
    "                     'DEDENT' if SC.sym == SC.DEDENT else \\\n",
    "                     'IDENT' if SC.sym == SC.IDENT else SC.sym, SC.newline))\n",
    "        SC.getSym()\n",
    "    return syms"
   ]
  },
  {
   "cell_type": "markdown",
   "metadata": {},
   "source": [
    "### Parsing Explicit Exceptions"
   ]
  },
  {
   "cell_type": "code",
   "execution_count": null,
   "metadata": {},
   "outputs": [],
   "source": [
    "scanString(\"\"\"\n",
    "\n",
    "program p\n",
    "\n",
    "  if a then\n",
    "    throw \n",
    "  else\n",
    "    throw\n",
    "  if a then writeln() else writeln()\n",
    "\"\"\")"
   ]
  },
  {
   "cell_type": "code",
   "execution_count": null,
   "metadata": {},
   "outputs": [],
   "source": [
    "scanString(\"\"\"\n",
    "\n",
    "program p\n",
    "\n",
    "  if a then\n",
    "    throw 66\n",
    "  else\n",
    "    throw 88\n",
    "  if a then throw 99 else writeln()\n",
    "\"\"\")"
   ]
  },
  {
   "cell_type": "markdown",
   "metadata": {},
   "source": [
    "### Tests for Explicit Exceptions"
   ]
  },
  {
   "cell_type": "markdown",
   "metadata": {},
   "source": [
    "### Square Root Calculator"
   ]
  },
  {
   "cell_type": "markdown",
   "metadata": {},
   "source": [
    "- Calculate the square root of `-2`\n",
    "\n",
    "Since `-2` is smaller than 0, `throw $e28` is generated and outputs `123` as expected.\n",
    "\n",
    "Run the cell below to see the generated WebAssembly code."
   ]
  },
  {
   "cell_type": "code",
   "execution_count": null,
   "metadata": {
    "scrolled": false
   },
   "outputs": [],
   "source": [
    "compileString(\"\"\"\n",
    "procedure sqrt(x: integer) → (r: integer)\n",
    "    if x < 0 then throw 28 else \n",
    "        r := 1\n",
    "        while (r × r) ≤ x do\n",
    "            r := r + 1\n",
    "        r := r - 1\n",
    "program equationsolver\n",
    "    var a: integer\n",
    "    try\n",
    "        a ← sqrt(-2)\n",
    "        write(a)\n",
    "    catch 28\n",
    "        write(123)\n",
    "    catchall\n",
    "\"\"\")"
   ]
  },
  {
   "cell_type": "code",
   "execution_count": null,
   "metadata": {},
   "outputs": [],
   "source": []
  },
  {
   "cell_type": "markdown",
   "metadata": {},
   "source": [
    "Then run the cell below to execute the generated WebAssembly code."
   ]
  },
  {
   "cell_type": "code",
   "execution_count": null,
   "metadata": {
    "scrolled": false
   },
   "outputs": [],
   "source": [
    "compileString(\"\"\"\n",
    "procedure sqrt(x: integer) → (r: integer)\n",
    "    if x < 0 then throw 28 else \n",
    "        r := 1\n",
    "        while (r × r) ≤ x do\n",
    "            r := r + 1\n",
    "        r := r - 1\n",
    "program equationsolver\n",
    "    var a: integer\n",
    "    try\n",
    "        a ← sqrt(-2)\n",
    "        write(a)\n",
    "    catch 28\n",
    "        write(123)\n",
    "    catchall\n",
    "\"\"\", 'test.wat')"
   ]
  },
  {
   "cell_type": "code",
   "execution_count": null,
   "metadata": {},
   "outputs": [],
   "source": [
    "!wat2wasm --enable-exceptions test.wat"
   ]
  },
  {
   "cell_type": "code",
   "execution_count": null,
   "metadata": {},
   "outputs": [],
   "source": [
    "runwasm('test.wasm')"
   ]
  },
  {
   "cell_type": "code",
   "execution_count": null,
   "metadata": {},
   "outputs": [],
   "source": []
  },
  {
   "cell_type": "markdown",
   "metadata": {},
   "source": [
    "- Since the exception can be any positive integers, you can have whatever positive integers you would like it to be.\n",
    "\n",
    "Now we change the `throw 28` to `throw 42` as well as `catch 28` to `catch 42`, and run the cells below to see the result."
   ]
  },
  {
   "cell_type": "code",
   "execution_count": null,
   "metadata": {
    "scrolled": false
   },
   "outputs": [],
   "source": [
    "compileString(\"\"\"\n",
    "procedure sqrt(x: integer) → (r: integer)\n",
    "    if x < 0 then throw 42 else \n",
    "        r := 1\n",
    "        while (r × r) ≤ x do\n",
    "            r := r + 1\n",
    "        r := r - 1\n",
    "program equationsolver\n",
    "    var a: integer\n",
    "    try\n",
    "        a ← sqrt(-2)\n",
    "        write(a)\n",
    "    catch 42\n",
    "        write(123)\n",
    "    catchall\n",
    "\"\"\", 'test.wat')"
   ]
  },
  {
   "cell_type": "code",
   "execution_count": null,
   "metadata": {},
   "outputs": [],
   "source": [
    "!wat2wasm --enable-exceptions test.wat"
   ]
  },
  {
   "cell_type": "code",
   "execution_count": null,
   "metadata": {
    "scrolled": true
   },
   "outputs": [],
   "source": [
    "runwasm('test.wasm')"
   ]
  },
  {
   "cell_type": "code",
   "execution_count": null,
   "metadata": {},
   "outputs": [],
   "source": []
  },
  {
   "cell_type": "markdown",
   "metadata": {},
   "source": [
    "- You have to match the statement in order to catch correctly, otherwise it will not catch as expected.\n",
    "\n",
    "Now we change the `catch 42` to `catch 20`, and run the cells below to see the result.\n",
    "\n",
    "Since there is no `statement 20`, it will print nothing."
   ]
  },
  {
   "cell_type": "code",
   "execution_count": null,
   "metadata": {
    "scrolled": false
   },
   "outputs": [],
   "source": [
    "compileString(\"\"\"\n",
    "procedure sqrt(x: integer) → (r: integer)\n",
    "    if x < 0 then throw 42 else \n",
    "        r := 1\n",
    "        while (r × r) ≤ x do\n",
    "            r := r + 1\n",
    "        r := r - 1\n",
    "program equationsolver\n",
    "    var a: integer\n",
    "    try\n",
    "        a ← sqrt(-2)\n",
    "        write(a)\n",
    "    catch 20\n",
    "        write(123)\n",
    "    catchall\n",
    "\"\"\", 'test.wat')"
   ]
  },
  {
   "cell_type": "code",
   "execution_count": null,
   "metadata": {},
   "outputs": [],
   "source": [
    "!wat2wasm --enable-exceptions test.wat"
   ]
  },
  {
   "cell_type": "code",
   "execution_count": null,
   "metadata": {
    "scrolled": true
   },
   "outputs": [],
   "source": [
    "runwasm('test.wasm')"
   ]
  },
  {
   "cell_type": "code",
   "execution_count": null,
   "metadata": {},
   "outputs": [],
   "source": []
  },
  {
   "cell_type": "markdown",
   "metadata": {},
   "source": [
    "- Finally, we calculate the square root of `81`\n",
    "\n",
    "Since `81` is greater than 0, it outputs the square root of `81` which is `9` as expected.\n",
    "\n",
    "Run the cell below to see the generated WebAssembly code."
   ]
  },
  {
   "cell_type": "code",
   "execution_count": null,
   "metadata": {
    "scrolled": false
   },
   "outputs": [],
   "source": [
    "compileString(\"\"\"\n",
    "procedure sqrt(x: integer) → (r: integer)\n",
    "    if x < 0 then throw 28 else \n",
    "        r := 1\n",
    "        while (r × r) ≤ x do\n",
    "            r := r + 1\n",
    "        r := r - 1\n",
    "program equationsolver\n",
    "    var a: integer\n",
    "    try\n",
    "        a ← sqrt(81)\n",
    "        write(a)\n",
    "    catch 28\n",
    "        write(123)\n",
    "    catchall\n",
    "\"\"\")"
   ]
  },
  {
   "cell_type": "code",
   "execution_count": null,
   "metadata": {},
   "outputs": [],
   "source": []
  },
  {
   "cell_type": "markdown",
   "metadata": {},
   "source": [
    "Then run the cell below to execute the generated WebAssembly code."
   ]
  },
  {
   "cell_type": "code",
   "execution_count": null,
   "metadata": {
    "scrolled": false
   },
   "outputs": [],
   "source": [
    "compileString(\"\"\"\n",
    "procedure sqrt(x: integer) → (r: integer)\n",
    "    if x < 0 then throw 28 else \n",
    "        r := 1\n",
    "        while (r × r) ≤ x do\n",
    "            r := r + 1\n",
    "        r := r - 1\n",
    "program equationsolver\n",
    "    var a: integer\n",
    "    try\n",
    "        a ← sqrt(81)\n",
    "        write(a)\n",
    "    catch 28\n",
    "        write(123)\n",
    "    catchall\n",
    "\"\"\", 'test.wat')"
   ]
  },
  {
   "cell_type": "code",
   "execution_count": null,
   "metadata": {},
   "outputs": [],
   "source": [
    "!wat2wasm --enable-exceptions test.wat"
   ]
  },
  {
   "cell_type": "code",
   "execution_count": null,
   "metadata": {},
   "outputs": [],
   "source": [
    "runwasm('test.wasm')"
   ]
  },
  {
   "cell_type": "code",
   "execution_count": null,
   "metadata": {},
   "outputs": [],
   "source": []
  },
  {
   "cell_type": "markdown",
   "metadata": {},
   "source": [
    "### Rounding Up Numbers"
   ]
  },
  {
   "cell_type": "markdown",
   "metadata": {},
   "source": [
    "The test cases below is for showing the ability of multiple `catch` application.\n",
    "\n",
    "It prints `1` if it is a negative integer and prints `10` if it is a positive integer. It prints out `0` while the input number is `0`.\n",
    "\n"
   ]
  },
  {
   "cell_type": "markdown",
   "metadata": {},
   "source": [
    "<br>\n",
    "\n",
    "Run the cell below to see the generated WebAssembly code."
   ]
  },
  {
   "cell_type": "code",
   "execution_count": null,
   "metadata": {},
   "outputs": [],
   "source": [
    "compileString(\"\"\"\n",
    "procedure posOrNeg(x: integer) → (r: integer)\n",
    "    if x < 0 then throw 65536\n",
    "    if x > 0 then throw 65535\n",
    "    else r := x \n",
    "program positiveOrNegative\n",
    "    var x, a: integer\n",
    "    try\n",
    "        x ← read()\n",
    "        a ← posOrNeg(x)\n",
    "        write(a)\n",
    "    catch 65536\n",
    "        write(1)\n",
    "    catch 65535\n",
    "        write(10)\n",
    "    catchall\n",
    "\"\"\")"
   ]
  },
  {
   "cell_type": "markdown",
   "metadata": {},
   "source": [
    "Then run the cell below to execute the generated WebAssembly code."
   ]
  },
  {
   "cell_type": "code",
   "execution_count": null,
   "metadata": {},
   "outputs": [],
   "source": [
    "compileString(\"\"\"\n",
    "procedure posOrNeg(x: integer) → (r: integer)\n",
    "    if x < 0 then throw 65536\n",
    "    if x > 0 then throw 65535\n",
    "    else r := x \n",
    "program positiveOrNegative\n",
    "    var x, a: integer\n",
    "    try\n",
    "        x ← read()\n",
    "        a ← posOrNeg(x)\n",
    "        write(a)\n",
    "    catch 65536\n",
    "        write(1)\n",
    "    catch 65535\n",
    "        write(10)\n",
    "    catchall\n",
    "\"\"\", 'test.wat')"
   ]
  },
  {
   "cell_type": "code",
   "execution_count": null,
   "metadata": {},
   "outputs": [],
   "source": [
    "!wat2wasm --enable-exceptions test.wat"
   ]
  },
  {
   "cell_type": "code",
   "execution_count": null,
   "metadata": {
    "scrolled": true
   },
   "outputs": [],
   "source": [
    "runwasm('test.wasm')"
   ]
  },
  {
   "cell_type": "code",
   "execution_count": null,
   "metadata": {},
   "outputs": [],
   "source": []
  },
  {
   "cell_type": "markdown",
   "metadata": {},
   "source": [
    "## Implicit Exception Test Cases"
   ]
  },
  {
   "cell_type": "markdown",
   "metadata": {},
   "source": [
    "### Zero Division and Mod by Zero Exception"
   ]
  },
  {
   "cell_type": "markdown",
   "metadata": {},
   "source": [
    "The zero division exception is built-in with the label of `111`, the below `P0` code is trying to calculate `99/(34*5-170)`, which is `99/0`."
   ]
  },
  {
   "cell_type": "markdown",
   "metadata": {},
   "source": [
    "\n",
    "Run the cell below to see the generated WebAssembly code."
   ]
  },
  {
   "cell_type": "code",
   "execution_count": null,
   "metadata": {},
   "outputs": [],
   "source": [
    "# logic: if a == 0 then throw else...\n",
    "compileString(\"\"\"\n",
    "program DividedByZero\n",
    "    var a, b: integer\n",
    "        try\n",
    "            a := (34 × 5 - 170)\n",
    "            b := (99 div a)\n",
    "            write(a)\n",
    "        catch 111\n",
    "        write(111)\n",
    "        catchall\n",
    "\"\"\")"
   ]
  },
  {
   "cell_type": "markdown",
   "metadata": {},
   "source": [
    "Then run the cell below to execute the generated WebAssembly code."
   ]
  },
  {
   "cell_type": "code",
   "execution_count": null,
   "metadata": {},
   "outputs": [],
   "source": [
    "compileString(\"\"\"\n",
    "program DividedByZero\n",
    "    var a, b: integer\n",
    "        try\n",
    "            a := (34 × 5 - 170)\n",
    "            b := (99 div a)\n",
    "            write(a)\n",
    "        catch 111\n",
    "        write(111)\n",
    "        catchall\n",
    "\"\"\", 'test.wat')"
   ]
  },
  {
   "cell_type": "code",
   "execution_count": null,
   "metadata": {},
   "outputs": [],
   "source": [
    "!wat2wasm --enable-exceptions test.wat"
   ]
  },
  {
   "cell_type": "code",
   "execution_count": null,
   "metadata": {},
   "outputs": [],
   "source": [
    "runwasm(\"test.wasm\")"
   ]
  },
  {
   "cell_type": "code",
   "execution_count": null,
   "metadata": {},
   "outputs": [],
   "source": []
  },
  {
   "cell_type": "markdown",
   "metadata": {},
   "source": [
    "Now we trying to calculate `99/(34*5-170+3)`, which is `99/3`, and it should output `3` instead of raising exception."
   ]
  },
  {
   "cell_type": "markdown",
   "metadata": {},
   "source": [
    "\n",
    "Run the cell below to see the generated WebAssembly code."
   ]
  },
  {
   "cell_type": "code",
   "execution_count": null,
   "metadata": {
    "scrolled": false
   },
   "outputs": [],
   "source": [
    "# logic: if a == 0 then throw else...\n",
    "compileString(\"\"\"\n",
    "program DividedByZero\n",
    "    var a, b: integer\n",
    "        try\n",
    "            a := (34 × 5 - 170 + 3)\n",
    "            b := (99 div a)\n",
    "            write(a)\n",
    "        catch 111\n",
    "        write(111)\n",
    "        catchall\n",
    "\"\"\")"
   ]
  },
  {
   "cell_type": "markdown",
   "metadata": {},
   "source": [
    "Then run the cell below to execute the generated WebAssembly code."
   ]
  },
  {
   "cell_type": "code",
   "execution_count": null,
   "metadata": {},
   "outputs": [],
   "source": [
    "compileString(\"\"\"\n",
    "program DividedByZero\n",
    "    var a, b: integer\n",
    "        try\n",
    "            a := (34 × 5 - 170 + 3)\n",
    "            b := (99 div a)\n",
    "            write(a)\n",
    "        catch 111\n",
    "        write(111)\n",
    "        catchall\n",
    "\"\"\", 'test.wat')"
   ]
  },
  {
   "cell_type": "code",
   "execution_count": null,
   "metadata": {},
   "outputs": [],
   "source": [
    "!wat2wasm --enable-exceptions test.wat"
   ]
  },
  {
   "cell_type": "code",
   "execution_count": null,
   "metadata": {},
   "outputs": [],
   "source": [
    "runwasm(\"test.wasm\")"
   ]
  },
  {
   "cell_type": "code",
   "execution_count": null,
   "metadata": {},
   "outputs": [],
   "source": []
  },
  {
   "cell_type": "markdown",
   "metadata": {},
   "source": [
    "Now we trying to calculate the `99/(34*5-170+3)`, which is `99/3`, and it should output `3` instead of raising exception."
   ]
  },
  {
   "cell_type": "markdown",
   "metadata": {},
   "source": [
    "\n",
    "Run the cell below to see the generated WebAssembly code."
   ]
  },
  {
   "cell_type": "code",
   "execution_count": null,
   "metadata": {
    "scrolled": false
   },
   "outputs": [],
   "source": [
    "# logic: if a == 0 then throw else...\n",
    "compileString(\"\"\"\n",
    "program DividedByZero\n",
    "    var a, b: integer\n",
    "        try\n",
    "            a := (34 × 5 - 170 + 3)\n",
    "            b := (99 div a)\n",
    "            write(a)\n",
    "        catch 111\n",
    "        write(111)\n",
    "        catchall\n",
    "\"\"\")"
   ]
  },
  {
   "cell_type": "markdown",
   "metadata": {},
   "source": [
    "Then run the cell below to execute the generated WebAssembly code."
   ]
  },
  {
   "cell_type": "code",
   "execution_count": 115,
   "metadata": {},
   "outputs": [],
   "source": [
    "compileString(\"\"\"\n",
    "program DividedByZero\n",
    "    var a, b: integer\n",
    "        try\n",
    "            a := (34 × 5 - 170 + 3)\n",
    "            b := (99 div a)\n",
    "            write(a)\n",
    "        catch 111\n",
    "        write(111)\n",
    "        catchall\n",
    "\"\"\", 'test.wat')"
   ]
  },
  {
   "cell_type": "code",
   "execution_count": null,
   "metadata": {},
   "outputs": [],
   "source": [
    "!wat2wasm --enable-exceptions test.wat"
   ]
  },
  {
   "cell_type": "code",
   "execution_count": null,
   "metadata": {},
   "outputs": [],
   "source": [
    "runwasm(\"test.wasm\")"
   ]
  },
  {
   "cell_type": "code",
   "execution_count": null,
   "metadata": {},
   "outputs": [],
   "source": []
  },
  {
   "cell_type": "markdown",
   "metadata": {},
   "source": [
    "- The same story goes under the `Mod by 0` exception, with the difference of the exception is labelled as `112` instead of `111`.\n",
    "\n",
    "The code below is trying to get the remainder of `99/(34*5-170)`, which is `99/0`, it should raise the `Mod by 0` exception and output `112`."
   ]
  },
  {
   "cell_type": "markdown",
   "metadata": {},
   "source": [
    "\n",
    "Run the cell below to see the generated WebAssembly code."
   ]
  },
  {
   "cell_type": "code",
   "execution_count": null,
   "metadata": {
    "scrolled": true
   },
   "outputs": [],
   "source": [
    "# logic: if a == 0 then throw else...\n",
    "compileString(\"\"\"\n",
    "program ModByZero\n",
    "    var a, b: integer\n",
    "        try\n",
    "            a := (34 × 5 - 170)\n",
    "            b := (99 mod a)\n",
    "            write(a)\n",
    "        catch 112\n",
    "        write(112)\n",
    "        catchall\n",
    "\"\"\")"
   ]
  },
  {
   "cell_type": "markdown",
   "metadata": {},
   "source": [
    "Then run the cell below to execute the generated WebAssembly code."
   ]
  },
  {
   "cell_type": "code",
   "execution_count": null,
   "metadata": {},
   "outputs": [],
   "source": [
    "compileString(\"\"\"\n",
    "program ModByZero\n",
    "    var a, b: integer\n",
    "        try\n",
    "            a := (34 × 5 - 170)\n",
    "            b := (99 mod a)\n",
    "            write(a)\n",
    "        catch 112\n",
    "        write(112)\n",
    "        catchall\n",
    "\"\"\", 'test.wat')"
   ]
  },
  {
   "cell_type": "code",
   "execution_count": null,
   "metadata": {},
   "outputs": [],
   "source": [
    "!wat2wasm --enable-exceptions test.wat"
   ]
  },
  {
   "cell_type": "code",
   "execution_count": null,
   "metadata": {},
   "outputs": [],
   "source": [
    "runwasm(\"test.wasm\")"
   ]
  },
  {
   "cell_type": "code",
   "execution_count": null,
   "metadata": {},
   "outputs": [],
   "source": []
  },
  {
   "cell_type": "markdown",
   "metadata": {},
   "source": [
    "Now we trying to calculate the remainder of `99/(34*5-170+2)`, which is `99/2`, and it should output `2` instead of raising exception."
   ]
  },
  {
   "cell_type": "markdown",
   "metadata": {},
   "source": [
    "\n",
    "Run the cell below to see the generated WebAssembly code."
   ]
  },
  {
   "cell_type": "code",
   "execution_count": null,
   "metadata": {
    "scrolled": true
   },
   "outputs": [],
   "source": [
    "# logic: if a == 0 then throw else...\n",
    "compileString(\"\"\"\n",
    "program ModByZero\n",
    "    var a, b: integer\n",
    "        try\n",
    "            a := (34 × 5 - 170 + 2)\n",
    "            b := (99 mod a)\n",
    "            write(a)\n",
    "        catch 112\n",
    "        write(112)\n",
    "        catchall\n",
    "\"\"\")"
   ]
  },
  {
   "cell_type": "markdown",
   "metadata": {},
   "source": [
    "Then run the cell below to execute the generated WebAssembly code."
   ]
  },
  {
   "cell_type": "code",
   "execution_count": 116,
   "metadata": {},
   "outputs": [],
   "source": [
    "compileString(\"\"\"\n",
    "program ModByZero\n",
    "    var a, b: integer\n",
    "        try\n",
    "            a := (34 × 5 - 170 + 2)\n",
    "            b := (99 mod a)\n",
    "            write(a)\n",
    "        catch 112\n",
    "        write(112)\n",
    "        catchall\n",
    "\"\"\", 'test.wat')"
   ]
  },
  {
   "cell_type": "code",
   "execution_count": 117,
   "metadata": {},
   "outputs": [],
   "source": [
    "!wat2wasm --enable-exceptions test.wat"
   ]
  },
  {
   "cell_type": "code",
   "execution_count": 118,
   "metadata": {},
   "outputs": [
    {
     "data": {
      "application/javascript": [
       "\n",
       "    const params = { \n",
       "        P0lib: { \n",
       "            write: i => this.append_stream({text: '' + i, name: 'stdout'}),\n",
       "            writeln: () => this.append_stream({text: '\\n', name: 'stdout'}),\n",
       "            read: () => window.prompt()\n",
       "        }\n",
       "    }\n",
       "\n",
       "    fetch('test.wasm') // asynchronously fetch file, return Response object\n",
       "      .then(response => response.arrayBuffer()) // read the response to completion and stores it in an ArrayBuffer\n",
       "      .then(code => WebAssembly.compile(code)) // compile (sharable) code.wasm\n",
       "      .then(module => WebAssembly.instantiate(module, params)) // create an instance with memory\n",
       "    // .then(instance => instance.exports.program()); // run the main program; not needed if start function specified\n",
       "    "
      ],
      "text/plain": [
       "<IPython.core.display.Javascript object>"
      ]
     },
     "metadata": {},
     "output_type": "display_data"
    }
   ],
   "source": [
    "runwasm(\"test.wasm\")"
   ]
  },
  {
   "cell_type": "markdown",
   "metadata": {},
   "source": [
    "### Index Out of Bounds Exception"
   ]
  },
  {
   "cell_type": "markdown",
   "metadata": {},
   "source": [
    "The `index out of bounds` exception is built-in with the label of `110`. Below is an example."
   ]
  },
  {
   "cell_type": "markdown",
   "metadata": {},
   "source": [
    "\n",
    "Run the cell below to see the generated WebAssembly code."
   ]
  },
  {
   "cell_type": "code",
   "execution_count": null,
   "metadata": {
    "scrolled": false
   },
   "outputs": [],
   "source": [
    "# logic: if (i on stack < a.tp.lower) or (i on stack >= a.tp.lower + a.tp.length) then throw else ...\n",
    "compileString(\"\"\"\n",
    "var x: [2 .. 4] → integer\n",
    "program IndexOutOfBounds\n",
    "    var i: integer\n",
    "    try\n",
    "        i := 5\n",
    "        write(x[i])\n",
    "    catch 110\n",
    "        write(110)\n",
    "    catchall\n",
    "\"\"\")"
   ]
  },
  {
   "cell_type": "markdown",
   "metadata": {},
   "source": [
    "Then run the cell below to execute the generated WebAssembly code."
   ]
  },
  {
   "cell_type": "code",
   "execution_count": 120,
   "metadata": {},
   "outputs": [],
   "source": [
    "# for testing the WebAssembly code execution\n",
    "compileString(\"\"\"\n",
    "var x: [2 .. 4] → integer\n",
    "program IndexOutOfBounds\n",
    "    var i: integer\n",
    "    try\n",
    "        i := 5\n",
    "        write(x[i])\n",
    "    catch 110\n",
    "        write(110)\n",
    "    catchall\n",
    "\"\"\", 'test.wat')"
   ]
  },
  {
   "cell_type": "code",
   "execution_count": 121,
   "metadata": {},
   "outputs": [],
   "source": [
    "!wat2wasm --enable-exceptions test.wat"
   ]
  },
  {
   "cell_type": "code",
   "execution_count": 122,
   "metadata": {},
   "outputs": [
    {
     "data": {
      "application/javascript": [
       "\n",
       "    const params = { \n",
       "        P0lib: { \n",
       "            write: i => this.append_stream({text: '' + i, name: 'stdout'}),\n",
       "            writeln: () => this.append_stream({text: '\\n', name: 'stdout'}),\n",
       "            read: () => window.prompt()\n",
       "        }\n",
       "    }\n",
       "\n",
       "    fetch('test.wasm') // asynchronously fetch file, return Response object\n",
       "      .then(response => response.arrayBuffer()) // read the response to completion and stores it in an ArrayBuffer\n",
       "      .then(code => WebAssembly.compile(code)) // compile (sharable) code.wasm\n",
       "      .then(module => WebAssembly.instantiate(module, params)) // create an instance with memory\n",
       "    // .then(instance => instance.exports.program()); // run the main program; not needed if start function specified\n",
       "    "
      ],
      "text/plain": [
       "<IPython.core.display.Javascript object>"
      ]
     },
     "metadata": {},
     "output_type": "display_data"
    }
   ],
   "source": [
    "runwasm(\"test.wasm\")"
   ]
  },
  {
   "cell_type": "markdown",
   "metadata": {},
   "source": [
    "- What if the index is negative?"
   ]
  },
  {
   "cell_type": "markdown",
   "metadata": {},
   "source": [
    "\n",
    "Run the cell below to see the generated WebAssembly code."
   ]
  },
  {
   "cell_type": "code",
   "execution_count": null,
   "metadata": {},
   "outputs": [],
   "source": [
    "# logic: if (i on stack < a.tp.lower) or (i on stack >= a.tp.lower + a.tp.length) then throw else ...\n",
    "compileString(\"\"\"\n",
    "var x: [2 .. 4] → integer\n",
    "program IndexOutOfBounds\n",
    "    var i: integer\n",
    "    try\n",
    "        i := -5\n",
    "        write(x[i])\n",
    "    catch 110\n",
    "        write(110)\n",
    "    catchall\n",
    "\"\"\")"
   ]
  },
  {
   "cell_type": "markdown",
   "metadata": {},
   "source": [
    "Then run the cell below to execute the generated WebAssembly code."
   ]
  },
  {
   "cell_type": "code",
   "execution_count": 124,
   "metadata": {},
   "outputs": [],
   "source": [
    "# for testing the WebAssembly code execution\n",
    "compileString(\"\"\"\n",
    "var x: [2 .. 4] → integer\n",
    "program IndexOutOfBounds\n",
    "    var i: integer\n",
    "    try\n",
    "        i := -5\n",
    "        write(x[i])\n",
    "    catch 110\n",
    "        write(110)\n",
    "    catchall\n",
    "\"\"\", 'test.wat')"
   ]
  },
  {
   "cell_type": "code",
   "execution_count": 125,
   "metadata": {},
   "outputs": [],
   "source": [
    "!wat2wasm --enable-exceptions test.wat"
   ]
  },
  {
   "cell_type": "code",
   "execution_count": 126,
   "metadata": {},
   "outputs": [
    {
     "data": {
      "application/javascript": [
       "\n",
       "    const params = { \n",
       "        P0lib: { \n",
       "            write: i => this.append_stream({text: '' + i, name: 'stdout'}),\n",
       "            writeln: () => this.append_stream({text: '\\n', name: 'stdout'}),\n",
       "            read: () => window.prompt()\n",
       "        }\n",
       "    }\n",
       "\n",
       "    fetch('test.wasm') // asynchronously fetch file, return Response object\n",
       "      .then(response => response.arrayBuffer()) // read the response to completion and stores it in an ArrayBuffer\n",
       "      .then(code => WebAssembly.compile(code)) // compile (sharable) code.wasm\n",
       "      .then(module => WebAssembly.instantiate(module, params)) // create an instance with memory\n",
       "    // .then(instance => instance.exports.program()); // run the main program; not needed if start function specified\n",
       "    "
      ],
      "text/plain": [
       "<IPython.core.display.Javascript object>"
      ]
     },
     "metadata": {},
     "output_type": "display_data"
    }
   ],
   "source": [
    "runwasm(\"test.wasm\")"
   ]
  },
  {
   "cell_type": "code",
   "execution_count": null,
   "metadata": {},
   "outputs": [],
   "source": []
  }
 ],
 "metadata": {
  "kernelspec": {
   "display_name": "Python 3",
   "language": "python",
   "name": "python3"
  },
  "language_info": {
   "codemirror_mode": {
    "name": "ipython",
    "version": 3
   },
   "file_extension": ".py",
   "mimetype": "text/x-python",
   "name": "python",
   "nbconvert_exporter": "python",
   "pygments_lexer": "ipython3",
   "version": "3.8.8"
  }
 },
 "nbformat": 4,
 "nbformat_minor": 4
}
