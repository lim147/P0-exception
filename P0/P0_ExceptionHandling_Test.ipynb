{
 "cells": [
  {
   "cell_type": "markdown",
   "metadata": {},
   "source": [
    "# P0 with Exception Test Cases\n",
    "\n",
    "#### Author: Kevin Zhou, Fanping Jiang, Meijing Li"
   ]
  },
  {
   "cell_type": "code",
   "execution_count": 1,
   "metadata": {},
   "outputs": [
    {
     "name": "stdout",
     "output_type": "stream",
     "text": [
      "Importing Jupyter notebook from P0.ipynb\n",
      "Importing Jupyter notebook from SC.ipynb\n",
      "Importing Jupyter notebook from ST.ipynb\n"
     ]
    }
   ],
   "source": [
    "import nbimporter; nbimporter.options[\"only_defs\"] = False\n",
    "from IPython.display import display\n",
    "from P0 import compileString\n",
    "from ST import printSymTab\n",
    "\n",
    "def runwasm(wasmfile):\n",
    "    from IPython.core.display import display, Javascript\n",
    "    display(Javascript(\"\"\"\n",
    "    const params = { \n",
    "        P0lib: { \n",
    "            write: i => this.append_stream({text: '' + i, name: 'stdout'}),\n",
    "            writeln: () => this.append_stream({text: '\\\\n', name: 'stdout'}),\n",
    "            read: () => window.prompt()\n",
    "        }\n",
    "    }\n",
    "\n",
    "    fetch('\"\"\" + wasmfile + \"\"\"') // asynchronously fetch file, return Response object\n",
    "      .then(response => response.arrayBuffer()) // read the response to completion and stores it in an ArrayBuffer\n",
    "      .then(code => WebAssembly.compile(code)) // compile (sharable) code.wasm\n",
    "      .then(module => WebAssembly.instantiate(module, params)) // create an instance with memory\n",
    "    // .then(instance => instance.exports.program()); // run the main program; not needed if start function specified\n",
    "    \"\"\"))\n",
    "\n",
    "def runpywasm(wasmfile):\n",
    "    import pywasm\n",
    "    def write(s, i): print(i)\n",
    "    def writeln(s): print('\\n')\n",
    "    def read(s): return int(input())\n",
    "    vm = pywasm.load(wasmfile, {'P0lib': {'write': write, 'writeln': writeln, 'read': read}})\n",
    "\n",
    "    \n",
    "from wasmer import engine, Store, Module, Instance, ImportObject, Function\n",
    "from wasmer_compiler_cranelift import Compiler\n",
    "\n",
    "def runwasmer(wasmfile):\n",
    "    def write(i: int): print(i)\n",
    "    def writeln(): print('\\n')\n",
    "    def read() -> int: return int(input()) \n",
    "    store = Store(engine.JIT(Compiler))\n",
    "    module = Module(store, open(wasmfile, 'rb').read())\n",
    "    import_object = ImportObject()\n",
    "    import_object.register(\"P0lib\", {\"write\": Function(store, write),\n",
    "                                     \"writeln\": Function(store, writeln),\"read\": Function(store, read)})\n",
    "    instance = Instance(module, import_object)"
   ]
  },
  {
   "cell_type": "code",
   "execution_count": 2,
   "metadata": {},
   "outputs": [],
   "source": [
    "import warnings\n",
    "warnings.filterwarnings(\"ignore\")"
   ]
  },
  {
   "cell_type": "markdown",
   "metadata": {},
   "source": [
    "### Scanner Tests for Exception"
   ]
  },
  {
   "cell_type": "code",
   "execution_count": 3,
   "metadata": {},
   "outputs": [],
   "source": [
    "import SC\n",
    "def scanString(src):\n",
    "    SC.init(src); syms = []\n",
    "    while SC.sym != SC.EOF:\n",
    "        syms.append(('INDENT' if SC.sym == SC.INDENT else \\\n",
    "                     'DEDENT' if SC.sym == SC.DEDENT else \\\n",
    "                     'IDENT' if SC.sym == SC.IDENT else SC.sym, SC.newline))\n",
    "        SC.getSym()\n",
    "    return syms"
   ]
  },
  {
   "cell_type": "markdown",
   "metadata": {},
   "source": [
    "### Parsing Explicit Exceptions"
   ]
  },
  {
   "cell_type": "code",
   "execution_count": null,
   "metadata": {},
   "outputs": [],
   "source": [
    "scanString(\"\"\"\n",
    "\n",
    "program p\n",
    "\n",
    "  if a then\n",
    "    writeln()\n",
    "  else\n",
    "    writeln()\n",
    "  if a then writeln() else writeln()\n",
    "\"\"\")"
   ]
  },
  {
   "cell_type": "code",
   "execution_count": null,
   "metadata": {},
   "outputs": [],
   "source": [
    "scanString(\"\"\"\n",
    "\n",
    "program p\n",
    "\n",
    "  if a then\n",
    "    throw\n",
    "  else\n",
    "    throw\n",
    "  if a then writeln() else writeln()\n",
    "\"\"\")"
   ]
  },
  {
   "cell_type": "code",
   "execution_count": null,
   "metadata": {},
   "outputs": [],
   "source": [
    "scanString(\"\"\"\n",
    "\n",
    "program p\n",
    "\n",
    "  if a then\n",
    "    throw 66\n",
    "  else\n",
    "    throw 88\n",
    "  if a then throw 99 else writeln()\n",
    "\"\"\")"
   ]
  },
  {
   "cell_type": "markdown",
   "metadata": {},
   "source": [
    "### Tests for Explicit Exceptions"
   ]
  },
  {
   "cell_type": "code",
   "execution_count": 4,
   "metadata": {
    "scrolled": false
   },
   "outputs": [
    {
     "name": "stdout",
     "output_type": "stream",
     "text": [
      "Importing Jupyter notebook from CGwat.ipynb\n",
      "(module\n",
      "(import \"P0lib\" \"write\" (func $write (param i32)))\n",
      "(import \"P0lib\" \"writeln\" (func $writeln))\n",
      "(import \"P0lib\" \"read\" (func $read (result i32)))\n",
      "(tag $e28 (param i32))\n",
      "(func $sqrt (param $x i32) (result i32)\n",
      "(local $r i32)\n",
      "(local $0 i32)\n",
      "local.get $x\n",
      "i32.const 0\n",
      "i32.lt_s\n",
      "if\n",
      "i32.const 28\n",
      "throw $e28\n",
      "else\n",
      "local.get $x\n",
      "local.set $r\n",
      "end\n",
      "local.get $r)\n",
      "(func $program\n",
      "(local $a i32)\n",
      "(local $0 i32)\n",
      "i32.const 2\n",
      "call $sqrt\n",
      "local.set $a\n",
      "local.get $a\n",
      "call $write\n",
      ")\n",
      "(memory 1)\n",
      "(start $program)\n",
      ")\n"
     ]
    }
   ],
   "source": [
    "# \"Throw\" Exception\n",
    "compileString(\"\"\"\n",
    "procedure sqrt(x: integer) → (r: integer)\n",
    "    if x < 0 then throw 28 else r := x\n",
    "program equationsolver\n",
    "    var a: integer\n",
    "        a ← sqrt(2)\n",
    "        write(a)\n",
    "\"\"\")"
   ]
  },
  {
   "cell_type": "code",
   "execution_count": null,
   "metadata": {},
   "outputs": [],
   "source": []
  },
  {
   "cell_type": "code",
   "execution_count": 5,
   "metadata": {},
   "outputs": [],
   "source": [
    "# \"Throw\" Exception for testing the WebAssembly code execution\n",
    "\n",
    "compileString(\"\"\"\n",
    "procedure sqrt(x: integer) → (r: integer)\n",
    "    if x < 0 then throw 28 else r := x\n",
    "program equationsolver\n",
    "    var a: integer\n",
    "        a ← sqrt(2)\n",
    "        write(a)\n",
    "\"\"\", 'test.wat')"
   ]
  },
  {
   "cell_type": "code",
   "execution_count": 6,
   "metadata": {},
   "outputs": [],
   "source": [
    "!wat2wasm --enable-exceptions test.wat"
   ]
  },
  {
   "cell_type": "code",
   "execution_count": 7,
   "metadata": {},
   "outputs": [
    {
     "data": {
      "application/javascript": [
       "\n",
       "    const params = { \n",
       "        P0lib: { \n",
       "            write: i => this.append_stream({text: '' + i, name: 'stdout'}),\n",
       "            writeln: () => this.append_stream({text: '\\n', name: 'stdout'}),\n",
       "            read: () => window.prompt()\n",
       "        }\n",
       "    }\n",
       "\n",
       "    fetch('test.wat') // asynchronously fetch file, return Response object\n",
       "      .then(response => response.arrayBuffer()) // read the response to completion and stores it in an ArrayBuffer\n",
       "      .then(code => WebAssembly.compile(code)) // compile (sharable) code.wasm\n",
       "      .then(module => WebAssembly.instantiate(module, params)) // create an instance with memory\n",
       "    // .then(instance => instance.exports.program()); // run the main program; not needed if start function specified\n",
       "    "
      ],
      "text/plain": [
       "<IPython.core.display.Javascript object>"
      ]
     },
     "metadata": {},
     "output_type": "display_data"
    }
   ],
   "source": [
    "runwasm(\"test.wat\")"
   ]
  },
  {
   "cell_type": "code",
   "execution_count": null,
   "metadata": {},
   "outputs": [],
   "source": []
  },
  {
   "cell_type": "code",
   "execution_count": null,
   "metadata": {},
   "outputs": [],
   "source": [
    "# \"throw\" and \"try-catch\" Exception\n",
    "compileString(\"\"\"\n",
    "procedure sqrt(x: integer) → (r: integer)\n",
    "    if x < 0 then throw 3 else r := x\n",
    "procedure quadraticsolution(a, b, c: integer) → (x, y: integer)\n",
    "    var d: integer\n",
    "        d ← sqrt(a × a - 4 × a × c)\n",
    "        x, y := (- b + d) div (2 × a), (- b - d) div (2 × a)\n",
    "program equationsolver\n",
    "    var a, b, c, x, y: integer\n",
    "    var done: boolean\n",
    "        done := false\n",
    "        \n",
    "        while ¬done do\n",
    "            try\n",
    "                a ← read(); b ← read(); c ← read()\n",
    "                x, y ← quadraticsolution(a, b, c)\n",
    "                write(x); write(y)\n",
    "            catch 4\n",
    "                done := true\n",
    "\"\"\")"
   ]
  },
  {
   "cell_type": "code",
   "execution_count": null,
   "metadata": {},
   "outputs": [],
   "source": []
  },
  {
   "cell_type": "code",
   "execution_count": null,
   "metadata": {},
   "outputs": [],
   "source": [
    "# \"throw\" and \"try-catch\" Exception for testing the WebAssembly code execution\n",
    "compileString(\"\"\"\n",
    "procedure sqrt(x: integer) → (r: integer)\n",
    "    if x < 0 then throw 3 else r := x\n",
    "procedure quadraticsolution(a, b, c: integer) → (x, y: integer)\n",
    "    var d: integer\n",
    "        d ← sqrt(a × a - 4 × a × c)\n",
    "        x, y := (- b + d) div (2 × a), (- b - d) div (2 × a)\n",
    "program equationsolver\n",
    "    var a, b, c, x, y: integer\n",
    "    var done: boolean\n",
    "        done := false\n",
    "        \n",
    "        while ¬done do\n",
    "            try\n",
    "                a ← read(); b ← read(); c ← read()\n",
    "                x, y ← quadraticsolution(a, b, c)\n",
    "                write(x); write(y)\n",
    "            catch 4\n",
    "                done := true\n",
    "\"\"\", 'test.wat')"
   ]
  },
  {
   "cell_type": "code",
   "execution_count": 6,
   "metadata": {},
   "outputs": [],
   "source": [
    "!wat2wasm --enable-exceptions test.wat"
   ]
  },
  {
   "cell_type": "code",
   "execution_count": 7,
   "metadata": {},
   "outputs": [
    {
     "data": {
      "application/javascript": [
       "\n",
       "    const params = { \n",
       "        P0lib: { \n",
       "            write: i => this.append_stream({text: '' + i, name: 'stdout'}),\n",
       "            writeln: () => this.append_stream({text: '\\n', name: 'stdout'}),\n",
       "            read: () => window.prompt()\n",
       "        }\n",
       "    }\n",
       "\n",
       "    fetch('test.wat') // asynchronously fetch file, return Response object\n",
       "      .then(response => response.arrayBuffer()) // read the response to completion and stores it in an ArrayBuffer\n",
       "      .then(code => WebAssembly.compile(code)) // compile (sharable) code.wasm\n",
       "      .then(module => WebAssembly.instantiate(module, params)) // create an instance with memory\n",
       "    // .then(instance => instance.exports.program()); // run the main program; not needed if start function specified\n",
       "    "
      ],
      "text/plain": [
       "<IPython.core.display.Javascript object>"
      ]
     },
     "metadata": {},
     "output_type": "display_data"
    }
   ],
   "source": [
    "runwasm(\"test.wat\")"
   ]
  },
  {
   "cell_type": "code",
   "execution_count": null,
   "metadata": {},
   "outputs": [],
   "source": []
  },
  {
   "cell_type": "markdown",
   "metadata": {},
   "source": [
    "## Implicit Exception Test Cases"
   ]
  },
  {
   "cell_type": "markdown",
   "metadata": {},
   "source": [
    "### Zero Division and Mod by Zero Exception"
   ]
  },
  {
   "cell_type": "code",
   "execution_count": 8,
   "metadata": {},
   "outputs": [
    {
     "name": "stdout",
     "output_type": "stream",
     "text": [
      "(module\n",
      "(import \"P0lib\" \"write\" (func $write (param i32)))\n",
      "(import \"P0lib\" \"writeln\" (func $writeln))\n",
      "(import \"P0lib\" \"read\" (func $read (result i32)))\n",
      "(func $program\n",
      "(local $a i32)\n",
      "(local $b i32)\n",
      "(local $0 i32)\n",
      "i32.const 0\n",
      "local.set $a\n",
      "i32.const 99\n",
      "local.get $a\n",
      "i32.div_s\n",
      "local.set $b\n",
      "local.get $a\n",
      "call $write\n",
      ")\n",
      "(memory 1)\n",
      "(start $program)\n",
      ")\n"
     ]
    }
   ],
   "source": [
    "# Zero Division Exception\n",
    "# logic: if a == 0 then throw else...\n",
    "compileString(\"\"\"\n",
    "\n",
    "program DividedByZero\n",
    "    var a, b: integer\n",
    "        a := (34 × 5 - 170)\n",
    "        b := (99 div a)\n",
    "        write(a)\n",
    "\"\"\")"
   ]
  },
  {
   "cell_type": "code",
   "execution_count": null,
   "metadata": {},
   "outputs": [],
   "source": [
    "# for testing the WebAssembly code execution\n",
    "compileString(\"\"\"\n",
    "\n",
    "program DividedByZero\n",
    "    var a, b: integer\n",
    "        a := (34 × 5 - 170)\n",
    "        b := (99 div a)\n",
    "        write(a)\n",
    "\"\"\", 'wasmtest.wat')"
   ]
  },
  {
   "cell_type": "code",
   "execution_count": null,
   "metadata": {},
   "outputs": [],
   "source": [
    "!wat2wasm --enable-exceptions wasmtest.wat"
   ]
  },
  {
   "cell_type": "code",
   "execution_count": null,
   "metadata": {},
   "outputs": [],
   "source": [
    "runwasm(\"wasmtest.wat\")"
   ]
  },
  {
   "cell_type": "code",
   "execution_count": null,
   "metadata": {},
   "outputs": [],
   "source": []
  },
  {
   "cell_type": "code",
   "execution_count": 10,
   "metadata": {
    "scrolled": true
   },
   "outputs": [
    {
     "name": "stdout",
     "output_type": "stream",
     "text": [
      "(module\n",
      "(import \"P0lib\" \"write\" (func $write (param i32)))\n",
      "(import \"P0lib\" \"writeln\" (func $writeln))\n",
      "(import \"P0lib\" \"read\" (func $read (result i32)))\n",
      "(func $program\n",
      "(local $a i32)\n",
      "(local $b i32)\n",
      "(local $0 i32)\n",
      "i32.const 0\n",
      "local.set $a\n",
      "i32.const 99\n",
      "local.get $a\n",
      "i32.rem_s\n",
      "local.set $b\n",
      "local.get $a\n",
      "call $write\n",
      ")\n",
      "(memory 1)\n",
      "(start $program)\n",
      ")\n"
     ]
    }
   ],
   "source": [
    "# Mod by 0 Exception\n",
    "# logic: if a == 0 then throw else...\n",
    "compileString(\"\"\"\n",
    "\n",
    "program ModByZero\n",
    "    var a, b: integer\n",
    "        a := (34 × 5 - 170)\n",
    "        b := (99 mod a)\n",
    "        write(a)\n",
    "\"\"\")"
   ]
  },
  {
   "cell_type": "code",
   "execution_count": null,
   "metadata": {},
   "outputs": [],
   "source": []
  },
  {
   "cell_type": "code",
   "execution_count": 10,
   "metadata": {},
   "outputs": [
    {
     "name": "stdout",
     "output_type": "stream",
     "text": [
      "(module\n",
      "(import \"P0lib\" \"write\" (func $write (param i32)))\n",
      "(import \"P0lib\" \"writeln\" (func $writeln))\n",
      "(import \"P0lib\" \"read\" (func $read (result i32)))\n",
      "(func $program\n",
      "(local $a i32)\n",
      "(local $b i32)\n",
      "(local $0 i32)\n",
      "i32.const 0\n",
      "local.set $a\n",
      "i32.const 99\n",
      "local.get $a\n",
      "i32.rem_s\n",
      "local.set $b\n",
      "local.get $a\n",
      "call $write\n",
      ")\n",
      "(memory 1)\n",
      "(start $program)\n",
      ")\n"
     ]
    }
   ],
   "source": [
    "# Mod by 0 Exception for testing the WebAssembly code execution\n",
    "\n",
    "compileString(\"\"\"\n",
    "\n",
    "program ModByZero\n",
    "    var a, b: integer\n",
    "        a := (34 × 5 - 170)\n",
    "        b := (99 mod a)\n",
    "        write(a)\n",
    "\"\"\")"
   ]
  },
  {
   "cell_type": "code",
   "execution_count": null,
   "metadata": {},
   "outputs": [],
   "source": [
    "!wat2wasm --enable-exceptions wasmtest.wat"
   ]
  },
  {
   "cell_type": "code",
   "execution_count": null,
   "metadata": {},
   "outputs": [],
   "source": [
    "runwasm(\"wasmtest.wat\")"
   ]
  },
  {
   "cell_type": "code",
   "execution_count": null,
   "metadata": {},
   "outputs": [],
   "source": []
  },
  {
   "cell_type": "code",
   "execution_count": 9,
   "metadata": {},
   "outputs": [
    {
     "ename": "Exception",
     "evalue": "integer division or modulo by zero",
     "output_type": "error",
     "traceback": [
      "\u001b[0;31m---------------------------------------------------------------------------\u001b[0m",
      "\u001b[0;31mZeroDivisionError\u001b[0m                         Traceback (most recent call last)",
      "\u001b[0;32m~/P0Exception/P0.ipynb\u001b[0m in \u001b[0;36mcompileString\u001b[0;34m(src, dstfn, target)\u001b[0m\n\u001b[1;32m      7\u001b[0m    },\n\u001b[0;32m----> 8\u001b[0;31m    \"source\": [\n\u001b[0m\u001b[1;32m      9\u001b[0m     \u001b[0;34m\"## The P0 Compiler\\n\"\u001b[0m\u001b[0;34m,\u001b[0m\u001b[0;34m\u001b[0m\u001b[0;34m\u001b[0m\u001b[0m\n",
      "\u001b[0;32m~/P0Exception/P0.ipynb\u001b[0m in \u001b[0;36mprogram\u001b[0;34m()\u001b[0m\n\u001b[1;32m     15\u001b[0m    \u001b[0;34m\"cell_type\"\u001b[0m\u001b[0;34m:\u001b[0m \u001b[0;34m\"markdown\"\u001b[0m\u001b[0;34m,\u001b[0m\u001b[0;34m\u001b[0m\u001b[0;34m\u001b[0m\u001b[0m\n\u001b[0;32m---> 16\u001b[0;31m    \"metadata\": {\n\u001b[0m\u001b[1;32m     17\u001b[0m     \u001b[0;34m\"hidePrompt\"\u001b[0m\u001b[0;34m:\u001b[0m \u001b[0mtrue\u001b[0m\u001b[0;34m\u001b[0m\u001b[0;34m\u001b[0m\u001b[0m\n",
      "\u001b[0;32m~/P0Exception/P0.ipynb\u001b[0m in \u001b[0;36mbody\u001b[0;34m(ident, parsize)\u001b[0m\n\u001b[1;32m      8\u001b[0m    \"source\": [\n\u001b[0;32m----> 9\u001b[0;31m     \u001b[0;34m\"## The P0 Compiler\\n\"\u001b[0m\u001b[0;34m,\u001b[0m\u001b[0;34m\u001b[0m\u001b[0;34m\u001b[0m\u001b[0m\n\u001b[0m\u001b[1;32m     10\u001b[0m     \u001b[0;34m\"#### COMP SCI 4TB3/6TB3, McMaster University\\n\"\u001b[0m\u001b[0;34m,\u001b[0m\u001b[0;34m\u001b[0m\u001b[0;34m\u001b[0m\u001b[0m\n",
      "\u001b[0;32m~/P0Exception/P0.ipynb\u001b[0m in \u001b[0;36mstatementBlock\u001b[0;34m()\u001b[0m\n\u001b[1;32m      1\u001b[0m {\n\u001b[0;32m----> 2\u001b[0;31m  \"cells\": [\n\u001b[0m\u001b[1;32m      3\u001b[0m   {\n",
      "\u001b[0;32m~/P0Exception/P0.ipynb\u001b[0m in \u001b[0;36mstatementList\u001b[0;34m()\u001b[0m\n\u001b[1;32m      1\u001b[0m {\n\u001b[0;32m----> 2\u001b[0;31m  \"cells\": [\n\u001b[0m\u001b[1;32m      3\u001b[0m   {\n",
      "\u001b[0;32m~/P0Exception/P0.ipynb\u001b[0m in \u001b[0;36mstatement\u001b[0;34m()\u001b[0m\n\u001b[1;32m     26\u001b[0m     \u001b[0;34m\"* _Assignment statement_ (`x₁`, `x₂`, … variable identifers, `d` selector, `e`, `e₁`, `e₂`, … expressions):\\n\"\u001b[0m\u001b[0;34m,\u001b[0m\u001b[0;34m\u001b[0m\u001b[0;34m\u001b[0m\u001b[0m\n\u001b[0;32m---> 27\u001b[0;31m     \u001b[0;34m\"      x₁, x₂, … := e₁, e₂, …\\n\"\u001b[0m\u001b[0;34m,\u001b[0m\u001b[0;34m\u001b[0m\u001b[0;34m\u001b[0m\u001b[0m\n\u001b[0m\u001b[1;32m     28\u001b[0m     \u001b[0;34m\"      x d := e\\n\"\u001b[0m\u001b[0;34m,\u001b[0m\u001b[0;34m\u001b[0m\u001b[0;34m\u001b[0m\u001b[0m\n",
      "\u001b[0;32m~/P0Exception/P0.ipynb\u001b[0m in \u001b[0;36mexpression\u001b[0;34m()\u001b[0m\n\u001b[1;32m      1\u001b[0m {\n\u001b[0;32m----> 2\u001b[0;31m  \"cells\": [\n\u001b[0m\u001b[1;32m      3\u001b[0m   {\n",
      "\u001b[0;32m~/P0Exception/P0.ipynb\u001b[0m in \u001b[0;36msimpleExpression\u001b[0;34m()\u001b[0m\n\u001b[1;32m      8\u001b[0m    \"source\": [\n\u001b[0;32m----> 9\u001b[0;31m     \u001b[0;34m\"## The P0 Compiler\\n\"\u001b[0m\u001b[0;34m,\u001b[0m\u001b[0;34m\u001b[0m\u001b[0;34m\u001b[0m\u001b[0m\n\u001b[0m\u001b[1;32m     10\u001b[0m     \u001b[0;34m\"#### COMP SCI 4TB3/6TB3, McMaster University\\n\"\u001b[0m\u001b[0;34m,\u001b[0m\u001b[0;34m\u001b[0m\u001b[0;34m\u001b[0m\u001b[0m\n",
      "\u001b[0;32m~/P0Exception/P0.ipynb\u001b[0m in \u001b[0;36mterm\u001b[0;34m()\u001b[0m\n\u001b[1;32m      1\u001b[0m {\n\u001b[0;32m----> 2\u001b[0;31m  \"cells\": [\n\u001b[0m\u001b[1;32m      3\u001b[0m   {\n",
      "\u001b[0;32m~/P0Exception/P0.ipynb\u001b[0m in \u001b[0;36mfactor\u001b[0;34m()\u001b[0m\n\u001b[1;32m     10\u001b[0m     \u001b[0;34m\"#### COMP SCI 4TB3/6TB3, McMaster University\\n\"\u001b[0m\u001b[0;34m,\u001b[0m\u001b[0;34m\u001b[0m\u001b[0;34m\u001b[0m\u001b[0m\n\u001b[0;32m---> 11\u001b[0;31m     \u001b[0;34m\"#### Emil Sekerinski, revised February 2022\"\u001b[0m\u001b[0;34m\u001b[0m\u001b[0;34m\u001b[0m\u001b[0m\n\u001b[0m\u001b[1;32m     12\u001b[0m    ]\n",
      "\u001b[0;32m~/P0Exception/P0.ipynb\u001b[0m in \u001b[0;36mexpression\u001b[0;34m()\u001b[0m\n\u001b[1;32m      1\u001b[0m {\n\u001b[0;32m----> 2\u001b[0;31m  \"cells\": [\n\u001b[0m\u001b[1;32m      3\u001b[0m   {\n",
      "\u001b[0;32m~/P0Exception/P0.ipynb\u001b[0m in \u001b[0;36msimpleExpression\u001b[0;34m()\u001b[0m\n\u001b[1;32m      8\u001b[0m    \"source\": [\n\u001b[0;32m----> 9\u001b[0;31m     \u001b[0;34m\"## The P0 Compiler\\n\"\u001b[0m\u001b[0;34m,\u001b[0m\u001b[0;34m\u001b[0m\u001b[0;34m\u001b[0m\u001b[0m\n\u001b[0m\u001b[1;32m     10\u001b[0m     \u001b[0;34m\"#### COMP SCI 4TB3/6TB3, McMaster University\\n\"\u001b[0m\u001b[0;34m,\u001b[0m\u001b[0;34m\u001b[0m\u001b[0;34m\u001b[0m\u001b[0m\n",
      "\u001b[0;32m~/P0Exception/P0.ipynb\u001b[0m in \u001b[0;36mterm\u001b[0;34m()\u001b[0m\n\u001b[1;32m      9\u001b[0m     \u001b[0;34m\"## The P0 Compiler\\n\"\u001b[0m\u001b[0;34m,\u001b[0m\u001b[0;34m\u001b[0m\u001b[0;34m\u001b[0m\u001b[0m\n\u001b[0;32m---> 10\u001b[0;31m     \u001b[0;34m\"#### COMP SCI 4TB3/6TB3, McMaster University\\n\"\u001b[0m\u001b[0;34m,\u001b[0m\u001b[0;34m\u001b[0m\u001b[0;34m\u001b[0m\u001b[0m\n\u001b[0m\u001b[1;32m     11\u001b[0m     \u001b[0;34m\"#### Emil Sekerinski, revised February 2022\"\u001b[0m\u001b[0;34m\u001b[0m\u001b[0;34m\u001b[0m\u001b[0m\n",
      "\u001b[0;31mZeroDivisionError\u001b[0m: integer division or modulo by zero",
      "\nDuring handling of the above exception, another exception occurred:\n",
      "\u001b[0;31mException\u001b[0m                                 Traceback (most recent call last)",
      "\u001b[0;32m<ipython-input-9-48557b19d14f>\u001b[0m in \u001b[0;36m<module>\u001b[0;34m\u001b[0m\n\u001b[1;32m      1\u001b[0m \u001b[0;31m# the exception of this case should be handled before the code generation\u001b[0m\u001b[0;34m\u001b[0m\u001b[0;34m\u001b[0m\u001b[0;34m\u001b[0m\u001b[0m\n\u001b[0;32m----> 2\u001b[0;31m compileString(\"\"\"\n\u001b[0m\u001b[1;32m      3\u001b[0m \u001b[0;34m\u001b[0m\u001b[0m\n\u001b[1;32m      4\u001b[0m \u001b[0mprogram\u001b[0m \u001b[0mDividedByZero\u001b[0m\u001b[0;34m\u001b[0m\u001b[0;34m\u001b[0m\u001b[0m\n\u001b[1;32m      5\u001b[0m     \u001b[0mvar\u001b[0m \u001b[0mb\u001b[0m\u001b[0;34m:\u001b[0m \u001b[0minteger\u001b[0m\u001b[0;34m\u001b[0m\u001b[0;34m\u001b[0m\u001b[0m\n",
      "\u001b[0;32m~/P0Exception/P0.ipynb\u001b[0m in \u001b[0;36mcompileString\u001b[0;34m(src, dstfn, target)\u001b[0m\n\u001b[1;32m     11\u001b[0m     \u001b[0;34m\"#### Emil Sekerinski, revised February 2022\"\u001b[0m\u001b[0;34m\u001b[0m\u001b[0;34m\u001b[0m\u001b[0m\n\u001b[1;32m     12\u001b[0m    ]\n\u001b[0;32m---> 13\u001b[0;31m   },\n\u001b[0m\u001b[1;32m     14\u001b[0m   {\n\u001b[1;32m     15\u001b[0m    \u001b[0;34m\"cell_type\"\u001b[0m\u001b[0;34m:\u001b[0m \u001b[0;34m\"markdown\"\u001b[0m\u001b[0;34m,\u001b[0m\u001b[0;34m\u001b[0m\u001b[0;34m\u001b[0m\u001b[0m\n",
      "\u001b[0;31mException\u001b[0m: integer division or modulo by zero"
     ]
    }
   ],
   "source": [
    "# the exception of this case should be handled before the code generation\n",
    "compileString(\"\"\"\n",
    "\n",
    "program DividedByZero\n",
    "    var b: integer\n",
    "        b := (32 div 0)\n",
    "        write(b)\n",
    "\"\"\", 'wasmtest.wat')"
   ]
  },
  {
   "cell_type": "code",
   "execution_count": null,
   "metadata": {},
   "outputs": [],
   "source": []
  },
  {
   "cell_type": "markdown",
   "metadata": {},
   "source": [
    "### Index Out of Bounds Exception"
   ]
  },
  {
   "cell_type": "code",
   "execution_count": 13,
   "metadata": {
    "scrolled": false
   },
   "outputs": [
    {
     "name": "stdout",
     "output_type": "stream",
     "text": [
      "(module\n",
      "(import \"P0lib\" \"write\" (func $write (param i32)))\n",
      "(import \"P0lib\" \"writeln\" (func $writeln))\n",
      "(import \"P0lib\" \"read\" (func $read (result i32)))\n",
      "(func $program\n",
      "(local $i i32)\n",
      "(local $0 i32)\n",
      "i32.const 5\n",
      "local.set $i\n",
      "local.get $i\n",
      "i32.const 2\n",
      "i32.sub\n",
      "i32.const 4\n",
      "i32.mul\n",
      "i32.const 0\n",
      "i32.add\n",
      "i32.load\n",
      "call $write\n",
      ")\n",
      "(memory 1)\n",
      "(start $program)\n",
      ")\n"
     ]
    }
   ],
   "source": [
    "# logic: if (i on stack < a.tp.lower) or (i on stack >= a.tp.lower + a.tp.length) then throw else ...\n",
    "compileString(\"\"\"\n",
    "\n",
    "var x: [2 .. 4] → integer\n",
    "program IndexOutOfBounds\n",
    "    var i: integer\n",
    "    i := 5\n",
    "    write(x[i])\n",
    "  \n",
    "\"\"\")"
   ]
  },
  {
   "cell_type": "code",
   "execution_count": null,
   "metadata": {},
   "outputs": [],
   "source": []
  },
  {
   "cell_type": "code",
   "execution_count": 12,
   "metadata": {},
   "outputs": [],
   "source": [
    "# for testing the WebAssembly code execution\n",
    "compileString(\"\"\"\n",
    "\n",
    "var x: [2 .. 4] → integer\n",
    "program IndexOutOfBounds\n",
    "    var i: integer\n",
    "    i := 5\n",
    "    write(x[i])\n",
    "  \n",
    "\"\"\", 'wasmtest.wat')"
   ]
  },
  {
   "cell_type": "code",
   "execution_count": null,
   "metadata": {},
   "outputs": [],
   "source": [
    "!wat2wasm --enable-exceptions wasmtest.wat"
   ]
  },
  {
   "cell_type": "code",
   "execution_count": null,
   "metadata": {},
   "outputs": [],
   "source": [
    "runwasm(\"wasmtest.wat\")"
   ]
  },
  {
   "cell_type": "code",
   "execution_count": null,
   "metadata": {},
   "outputs": [],
   "source": []
  },
  {
   "cell_type": "code",
   "execution_count": 16,
   "metadata": {},
   "outputs": [
    {
     "name": "stdout",
     "output_type": "stream",
     "text": [
      "(module\n",
      "(import \"P0lib\" \"write\" (func $write (param i32)))\n",
      "(import \"P0lib\" \"writeln\" (func $writeln))\n",
      "(import \"P0lib\" \"read\" (func $read (result i32)))\n",
      "(func $program\n",
      "(local $i i32)\n",
      "(local $0 i32)\n",
      "i32.const -1\n",
      "local.set $i\n",
      "local.get $i\n",
      "i32.const 1\n",
      "i32.sub\n",
      "i32.const 4\n",
      "i32.mul\n",
      "i32.const 0\n",
      "i32.add\n",
      "i32.load\n",
      "call $write\n",
      ")\n",
      "(memory 1)\n",
      "(start $program)\n",
      ")\n"
     ]
    }
   ],
   "source": [
    "# logic: if (i on stack < a.tp.lower) or (i on stack >= a.tp.lower + a.tp.length) then throw else ...\n",
    "compileString(\"\"\"\n",
    "\n",
    "var x: [1 .. 5] → integer\n",
    "program IndexOutOfBounds\n",
    "    var i: integer\n",
    "    i := -1\n",
    "    write(x[i])\n",
    "  \n",
    "\"\"\")"
   ]
  },
  {
   "cell_type": "code",
   "execution_count": null,
   "metadata": {},
   "outputs": [],
   "source": []
  },
  {
   "cell_type": "code",
   "execution_count": 15,
   "metadata": {},
   "outputs": [],
   "source": [
    "# for testing the WebAssembly code execution\n",
    "compileString(\"\"\"\n",
    "\n",
    "var x: [1 .. 5] → integer\n",
    "program IndexOutOfBounds\n",
    "    var i: integer\n",
    "    i := -1\n",
    "    write(x[i])\n",
    "  \n",
    "\"\"\", 'wasmtest.wat')"
   ]
  },
  {
   "cell_type": "code",
   "execution_count": null,
   "metadata": {},
   "outputs": [],
   "source": [
    "!wat2wasm --enable-exceptions wasmtest.wat"
   ]
  },
  {
   "cell_type": "code",
   "execution_count": null,
   "metadata": {},
   "outputs": [],
   "source": [
    "runwasm(\"wasmtest.wat\")"
   ]
  },
  {
   "cell_type": "markdown",
   "metadata": {},
   "source": [
    "### Nested `try catch` Exception"
   ]
  },
  {
   "cell_type": "code",
   "execution_count": 18,
   "metadata": {
    "scrolled": false
   },
   "outputs": [
    {
     "name": "stdout",
     "output_type": "stream",
     "text": [
      "(module\n",
      "(import \"P0lib\" \"write\" (func $write (param i32)))\n",
      "(import \"P0lib\" \"writeln\" (func $writeln))\n",
      "(import \"P0lib\" \"read\" (func $read (result i32)))\n",
      "(tag $e6 (param i32))\n",
      "(tag $e5 (param i32))\n",
      "(tag $e3 (param i32))\n",
      "(func $sqrt (param $x i32) (result i32)\n",
      "(local $r i32)\n",
      "(local $0 i32)\n",
      "local.get $x\n",
      "i32.const 0\n",
      "i32.lt_s\n",
      "if\n",
      "i32.const 3\n",
      "throw $e3\n",
      "else\n",
      "local.get $x\n",
      "local.set $r\n",
      "end\n",
      "local.get $r)\n",
      "(func $quadraticsolution (param $a i32) (param $b i32) (param $c i32) (result i32) (result i32)\n",
      "(local $x i32)\n",
      "(local $y i32)\n",
      "(local $d i32)\n",
      "(local $0 i32)\n",
      "local.get $a\n",
      "local.get $a\n",
      "i32.mul\n",
      "i32.const 4\n",
      "local.get $a\n",
      "i32.mul\n",
      "local.get $c\n",
      "i32.mul\n",
      "i32.sub\n",
      "call $sqrt\n",
      "local.set $d\n",
      "local.get $b\n",
      "i32.const -1\n",
      "i32.mul\n",
      "local.get $d\n",
      "i32.add\n",
      "i32.const 2\n",
      "local.get $a\n",
      "i32.mul\n",
      "i32.div_s\n",
      "local.get $b\n",
      "i32.const -1\n",
      "i32.mul\n",
      "local.get $d\n",
      "i32.sub\n",
      "i32.const 2\n",
      "local.get $a\n",
      "i32.mul\n",
      "i32.div_s\n",
      "local.set $y\n",
      "local.set $x\n",
      "local.get $x\n",
      "local.get $y)\n",
      "(func $program\n",
      "(local $a i32)\n",
      "(local $b i32)\n",
      "(local $c i32)\n",
      "(local $x i32)\n",
      "(local $y i32)\n",
      "(local $done i32)\n",
      "(local $0 i32)\n",
      "i32.const 0\n",
      "local.set $done\n",
      "loop\n",
      "local.get $done\n",
      "i32.eqz\n",
      "if\n",
      "try\n",
      "try\n",
      "call $read\n",
      "local.set $a\n",
      "call $read\n",
      "local.set $b\n",
      "call $read\n",
      "local.set $c\n",
      "local.get $a\n",
      "local.get $b\n",
      "local.get $c\n",
      "call $quadraticsolution\n",
      "local.set $y\n",
      "local.set $x\n",
      "local.get $x\n",
      "call $write\n",
      "local.get $y\n",
      "call $write\n",
      "catch $e5\n",
      "drop\n",
      "i32.const 1\n",
      "local.set $done\n",
      "catch_all\n",
      "end\n",
      "catch $e6\n",
      "drop\n",
      "i32.const 0\n",
      "local.set $done\n",
      "catch_all\n",
      "end\n",
      "br 1\n",
      "end\n",
      "end\n",
      ")\n",
      "(memory 1)\n",
      "(start $program)\n",
      ")\n"
     ]
    }
   ],
   "source": [
    "# \"throw\" and \"try-catch\" Exception with try-catch inside a try-catch\n",
    "compileString(\"\"\"\n",
    "procedure sqrt(x: integer) → (r: integer)\n",
    "    if x < 0 then throw 3 else r := x\n",
    "procedure quadraticsolution(a, b, c: integer) → (x, y: integer)\n",
    "    var d: integer\n",
    "        d ← sqrt(a × a - 4 × a × c)\n",
    "        x, y := (- b + d) div (2 × a), (- b - d) div (2 × a)\n",
    "program equationsolver\n",
    "    var a, b, c, x, y: integer\n",
    "    var done: boolean\n",
    "        done := false\n",
    "        \n",
    "        while ¬done do\n",
    "            try\n",
    "                try\n",
    "                    a ← read(); b ← read(); c ← read()\n",
    "                    x, y ← quadraticsolution(a, b, c)\n",
    "                    write(x); write(y)\n",
    "                catch 5\n",
    "                    done := true\n",
    "            catch 6\n",
    "                done := false\n",
    "\"\"\")"
   ]
  },
  {
   "cell_type": "code",
   "execution_count": null,
   "metadata": {},
   "outputs": [],
   "source": []
  },
  {
   "cell_type": "code",
   "execution_count": null,
   "metadata": {},
   "outputs": [],
   "source": []
  },
  {
   "cell_type": "code",
   "execution_count": null,
   "metadata": {},
   "outputs": [],
   "source": [
    "# \"throw\" and \"try-catch\" Exception with try-catch inside a try-catch\n",
    "# for testing the WebAssembly code execution\n",
    "compileString(\"\"\"\n",
    "procedure sqrt(x: integer) → (r: integer)\n",
    "    if x < 0 then throw 3 else r := x\n",
    "procedure quadraticsolution(a, b, c: integer) → (x, y: integer)\n",
    "    var d: integer\n",
    "        d ← sqrt(a × a - 4 × a × c)\n",
    "        x, y := (- b + d) div (2 × a), (- b - d) div (2 × a)\n",
    "program equationsolver\n",
    "    var a, b, c, x, y: integer\n",
    "    var done: boolean\n",
    "        done := false\n",
    "        \n",
    "        while ¬done do\n",
    "            try\n",
    "                try\n",
    "                    a ← read(); b ← read(); c ← read()\n",
    "                    x, y ← quadraticsolution(a, b, c)\n",
    "                    write(x); write(y)\n",
    "                catch 5\n",
    "                    done := true\n",
    "            catch 6\n",
    "                done := false\n",
    "\"\"\", 'wasmtest.wat')"
   ]
  },
  {
   "cell_type": "code",
   "execution_count": null,
   "metadata": {},
   "outputs": [],
   "source": [
    "!wat2wasm --enable-exceptions wasmtest.wat"
   ]
  },
  {
   "cell_type": "code",
   "execution_count": null,
   "metadata": {},
   "outputs": [],
   "source": [
    "runwasm(\"wasmtest.wat\")"
   ]
  },
  {
   "cell_type": "code",
   "execution_count": null,
   "metadata": {},
   "outputs": [],
   "source": []
  },
  {
   "cell_type": "code",
   "execution_count": null,
   "metadata": {},
   "outputs": [],
   "source": []
  }
 ],
 "metadata": {
  "kernelspec": {
   "display_name": "Python 3",
   "language": "python",
   "name": "python3"
  },
  "language_info": {
   "codemirror_mode": {
    "name": "ipython",
    "version": 3
   },
   "file_extension": ".py",
   "mimetype": "text/x-python",
   "name": "python",
   "nbconvert_exporter": "python",
   "pygments_lexer": "ipython3",
   "version": "3.8.8"
  }
 },
 "nbformat": 4,
 "nbformat_minor": 4
}
