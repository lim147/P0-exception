{
 "cells": [
  {
   "cell_type": "markdown",
   "metadata": {},
   "source": [
    "# P0 with Exception Test Cases\n",
    "\n",
    "#### Author: Kevin Zhou, Fanping Jiang, Meijing Li"
   ]
  },
  {
   "cell_type": "code",
   "execution_count": null,
   "metadata": {},
   "outputs": [],
   "source": [
    "import nbimporter; nbimporter.options[\"only_defs\"] = False\n",
    "from IPython.display import display\n",
    "from P0 import compileString\n",
    "from ST import printSymTab\n",
    "\n",
    "def runwasm(wasmfile):\n",
    "    from IPython.core.display import display, Javascript\n",
    "    display(Javascript(\"\"\"\n",
    "    const params = { \n",
    "        P0lib: { \n",
    "            write: i => this.append_stream({text: '' + i, name: 'stdout'}),\n",
    "            writeln: () => this.append_stream({text: '\\\\n', name: 'stdout'}),\n",
    "            read: () => window.prompt()\n",
    "        }\n",
    "    }\n",
    "\n",
    "    fetch('\"\"\" + wasmfile + \"\"\"') // asynchronously fetch file, return Response object\n",
    "      .then(response => response.arrayBuffer()) // read the response to completion and stores it in an ArrayBuffer\n",
    "      .then(code => WebAssembly.compile(code)) // compile (sharable) code.wasm\n",
    "      .then(module => WebAssembly.instantiate(module, params)) // create an instance with memory\n",
    "    // .then(instance => instance.exports.program()); // run the main program; not needed if start function specified\n",
    "    \"\"\"))\n",
    "\n",
    "def runpywasm(wasmfile):\n",
    "    import pywasm\n",
    "    def write(s, i): print(i)\n",
    "    def writeln(s): print('\\n')\n",
    "    def read(s): return int(input())\n",
    "    vm = pywasm.load(wasmfile, {'P0lib': {'write': write, 'writeln': writeln, 'read': read}})\n",
    "\n",
    "    \n",
    "from wasmer import engine, Store, Module, Instance, ImportObject, Function\n",
    "from wasmer_compiler_cranelift import Compiler\n",
    "\n",
    "def runwasmer(wasmfile):\n",
    "    def write(i: int): print(i)\n",
    "    def writeln(): print('\\n')\n",
    "    def read() -> int: return int(input()) \n",
    "    store = Store(engine.JIT(Compiler))\n",
    "    module = Module(store, open(wasmfile, 'rb').read())\n",
    "    import_object = ImportObject()\n",
    "    import_object.register(\"P0lib\", {\"write\": Function(store, write),\n",
    "                                     \"writeln\": Function(store, writeln),\"read\": Function(store, read)})\n",
    "    instance = Instance(module, import_object)"
   ]
  },
  {
   "cell_type": "code",
   "execution_count": null,
   "metadata": {},
   "outputs": [],
   "source": [
    "import warnings\n",
    "warnings.filterwarnings(\"ignore\")"
   ]
  },
  {
   "cell_type": "markdown",
   "metadata": {},
   "source": [
    "## Tests for Explicit Exceptions"
   ]
  },
  {
   "cell_type": "markdown",
   "metadata": {},
   "source": [
    "### Square Root Calculator"
   ]
  },
  {
   "cell_type": "markdown",
   "metadata": {},
   "source": [
    "- Calculate the square root of `-2`\n",
    "\n",
    "    Since `-2` is smaller than 0, `throw 28` takes affect. The program outputs `123` as expected.\n",
    "\n",
    "    Run the cell below to see the generated WebAssembly code."
   ]
  },
  {
   "cell_type": "code",
   "execution_count": null,
   "metadata": {
    "scrolled": false
   },
   "outputs": [],
   "source": [
    "compileString(\"\"\"\n",
    "procedure sqrt(x: integer) → (r: integer)\n",
    "    if x < 0 then throw 28 else \n",
    "        r := 1\n",
    "        while (r × r) ≤ x do\n",
    "            r := r + 1\n",
    "        r := r - 1\n",
    "program equationsolver\n",
    "    var a: integer\n",
    "    try\n",
    "        a ← sqrt(-2)\n",
    "        write(a)\n",
    "    catch 28\n",
    "        write(123)\n",
    "    catchall\n",
    "\"\"\")"
   ]
  },
  {
   "cell_type": "markdown",
   "metadata": {},
   "source": [
    "Then run the cell below to execute the generated WebAssembly code."
   ]
  },
  {
   "cell_type": "code",
   "execution_count": null,
   "metadata": {
    "scrolled": false
   },
   "outputs": [],
   "source": [
    "compileString(\"\"\"\n",
    "procedure sqrt(x: integer) → (r: integer)\n",
    "    if x < 0 then throw 28 else \n",
    "        r := 1\n",
    "        while (r × r) ≤ x do\n",
    "            r := r + 1\n",
    "        r := r - 1\n",
    "program equationsolver\n",
    "    var a: integer\n",
    "    try\n",
    "        a ← sqrt(-2)\n",
    "        write(a)\n",
    "    catch 28\n",
    "        write(123)\n",
    "    catchall\n",
    "\"\"\", 'test.wat')"
   ]
  },
  {
   "cell_type": "code",
   "execution_count": null,
   "metadata": {},
   "outputs": [],
   "source": [
    "!wat2wasm --enable-exceptions test.wat"
   ]
  },
  {
   "cell_type": "code",
   "execution_count": null,
   "metadata": {},
   "outputs": [],
   "source": [
    "runwasm('test.wasm')"
   ]
  },
  {
   "cell_type": "markdown",
   "metadata": {},
   "source": [
    "- Since the exception tag is up to the user to define, it can be any positive integers, as long as the tag in throw matches the tag in catch.\n",
    "\n",
    "    Now we change the `throw 28` to `throw 42` as well as `catch 28` to `catch 42`, and run the cells below. You should get the same result."
   ]
  },
  {
   "cell_type": "code",
   "execution_count": null,
   "metadata": {
    "scrolled": false
   },
   "outputs": [],
   "source": [
    "compileString(\"\"\"\n",
    "procedure sqrt(x: integer) → (r: integer)\n",
    "    if x < 0 then throw 42 else \n",
    "        r := 1\n",
    "        while (r × r) ≤ x do\n",
    "            r := r + 1\n",
    "        r := r - 1\n",
    "program equationsolver\n",
    "    var a: integer\n",
    "    try\n",
    "        a ← sqrt(-2)\n",
    "        write(a)\n",
    "    catch 42\n",
    "        write(123)\n",
    "    catchall\n",
    "\"\"\", 'test.wat')"
   ]
  },
  {
   "cell_type": "code",
   "execution_count": null,
   "metadata": {},
   "outputs": [],
   "source": [
    "!wat2wasm --enable-exceptions test.wat"
   ]
  },
  {
   "cell_type": "code",
   "execution_count": null,
   "metadata": {
    "scrolled": true
   },
   "outputs": [],
   "source": [
    "runwasm('test.wasm')"
   ]
  },
  {
   "cell_type": "markdown",
   "metadata": {},
   "source": [
    "- You have to match the exception tag in order to catch correctly, otherwise it will not catch as expected.\n",
    "\n",
    "    Now if we `throw 42` but `catch 20`, there is a mismatch, so it will print nothing."
   ]
  },
  {
   "cell_type": "code",
   "execution_count": null,
   "metadata": {
    "scrolled": false
   },
   "outputs": [],
   "source": [
    "compileString(\"\"\"\n",
    "procedure sqrt(x: integer) → (r: integer)\n",
    "    if x < 0 then throw 42 else \n",
    "        r := 1\n",
    "        while (r × r) ≤ x do\n",
    "            r := r + 1\n",
    "        r := r - 1\n",
    "program equationsolver\n",
    "    var a: integer\n",
    "    try\n",
    "        a ← sqrt(-2)\n",
    "        write(a)\n",
    "    catch 20\n",
    "        write(123)\n",
    "    catchall\n",
    "\"\"\", 'test.wat')"
   ]
  },
  {
   "cell_type": "code",
   "execution_count": null,
   "metadata": {},
   "outputs": [],
   "source": [
    "!wat2wasm --enable-exceptions test.wat"
   ]
  },
  {
   "cell_type": "code",
   "execution_count": null,
   "metadata": {
    "scrolled": true
   },
   "outputs": [],
   "source": [
    "runwasm('test.wasm')"
   ]
  },
  {
   "cell_type": "markdown",
   "metadata": {},
   "source": [
    "- Finally, we calculate the square root of `81`\n",
    "\n",
    "    Since `81` is greater than 0, it outputs the square root of `81` which is `9` as expected."
   ]
  },
  {
   "cell_type": "code",
   "execution_count": null,
   "metadata": {
    "scrolled": false
   },
   "outputs": [],
   "source": [
    "compileString(\"\"\"\n",
    "procedure sqrt(x: integer) → (r: integer)\n",
    "    if x < 0 then throw 28 else \n",
    "        r := 1\n",
    "        while (r × r) ≤ x do\n",
    "            r := r + 1\n",
    "        r := r - 1\n",
    "program equationsolver\n",
    "    var a: integer\n",
    "    try\n",
    "        a ← sqrt(81)\n",
    "        write(a)\n",
    "    catch 28\n",
    "        write(123)\n",
    "    catchall\n",
    "\"\"\", 'test.wat')"
   ]
  },
  {
   "cell_type": "code",
   "execution_count": null,
   "metadata": {},
   "outputs": [],
   "source": [
    "!wat2wasm --enable-exceptions test.wat"
   ]
  },
  {
   "cell_type": "code",
   "execution_count": null,
   "metadata": {},
   "outputs": [],
   "source": [
    "runwasm('test.wasm')"
   ]
  },
  {
   "cell_type": "markdown",
   "metadata": {},
   "source": [
    "### Multiple Catch Testing"
   ]
  },
  {
   "cell_type": "markdown",
   "metadata": {},
   "source": [
    "The test cases below is for showing the ability of multiple `catch` application.\n",
    "\n",
    "The follwing program prints `-1` if it is a negative integer and prints `1` if it is a positive integer. It prints out `0` if the input number is `0`.\n",
    "\n"
   ]
  },
  {
   "cell_type": "markdown",
   "metadata": {},
   "source": [
    "Run the cell below to see the generated WebAssembly code."
   ]
  },
  {
   "cell_type": "code",
   "execution_count": null,
   "metadata": {},
   "outputs": [],
   "source": [
    "compileString(\"\"\"\n",
    "procedure posOrNeg(x: integer) → (r: integer)\n",
    "    if x < 0 then throw 65536\n",
    "    if x > 0 then throw 65535\n",
    "    else r := x \n",
    "program positiveOrNegative\n",
    "    var x, a: integer\n",
    "    try\n",
    "        x ← read()\n",
    "        a ← posOrNeg(x)\n",
    "        write(a)\n",
    "    catch 65536\n",
    "        write(-1)\n",
    "    catch 65535\n",
    "        write(1)\n",
    "    catchall\n",
    "\"\"\")"
   ]
  },
  {
   "cell_type": "markdown",
   "metadata": {},
   "source": [
    "Then run the cell below to execute the generated WebAssembly code."
   ]
  },
  {
   "cell_type": "code",
   "execution_count": null,
   "metadata": {},
   "outputs": [],
   "source": [
    "compileString(\"\"\"\n",
    "procedure posOrNeg(x: integer) → (r: integer)\n",
    "    if x < 0 then throw 65536\n",
    "    if x > 0 then throw 65535\n",
    "    else r := x \n",
    "program positiveOrNegative\n",
    "    var x, a: integer\n",
    "    try\n",
    "        x ← read()\n",
    "        a ← posOrNeg(x)\n",
    "        write(a)\n",
    "    catch 65536\n",
    "        write(-1)\n",
    "    catch 65535\n",
    "        write(1)\n",
    "    catchall\n",
    "\"\"\", 'test.wat')"
   ]
  },
  {
   "cell_type": "code",
   "execution_count": null,
   "metadata": {},
   "outputs": [],
   "source": [
    "!wat2wasm --enable-exceptions test.wat"
   ]
  },
  {
   "cell_type": "code",
   "execution_count": null,
   "metadata": {
    "scrolled": true
   },
   "outputs": [],
   "source": [
    "runwasm('test.wasm')"
   ]
  },
  {
   "cell_type": "markdown",
   "metadata": {},
   "source": [
    "## Implicit Exception Test Cases"
   ]
  },
  {
   "cell_type": "markdown",
   "metadata": {},
   "source": [
    "### Division by 0 "
   ]
  },
  {
   "cell_type": "markdown",
   "metadata": {},
   "source": [
    "The zero division exception is built-in with the exception tag `111`, the below `P0` code is trying to calculate `99/(34*5-170)`, which is `99/0`. It should trigger `throw 111` thus the statement under `catch 111` will be executed. The output is `111`."
   ]
  },
  {
   "cell_type": "markdown",
   "metadata": {},
   "source": [
    "\n",
    "Run the cell below to see the generated WebAssembly code."
   ]
  },
  {
   "cell_type": "code",
   "execution_count": null,
   "metadata": {},
   "outputs": [],
   "source": [
    "# logic: if a == 0 then throw 111 else b := (99 div a); write(b)\n",
    "compileString(\"\"\"\n",
    "program DividedByZero\n",
    "    var a, b: integer\n",
    "        try\n",
    "            a := (34 × 5 - 170)\n",
    "            b := (99 div a)\n",
    "            write(b)\n",
    "        catch 111\n",
    "            write(111)\n",
    "        catchall\n",
    "\"\"\")"
   ]
  },
  {
   "cell_type": "markdown",
   "metadata": {},
   "source": [
    "Then run the cell below to execute the generated WebAssembly code. The expected output is `111`"
   ]
  },
  {
   "cell_type": "code",
   "execution_count": null,
   "metadata": {},
   "outputs": [],
   "source": [
    "compileString(\"\"\"\n",
    "program DividedByZero\n",
    "    var a, b: integer\n",
    "        try\n",
    "            a := (34 × 5 - 170)\n",
    "            b := (99 div a)\n",
    "            write(b)\n",
    "        catch 111\n",
    "            write(111)\n",
    "        catchall\n",
    "\"\"\", 'test.wat')"
   ]
  },
  {
   "cell_type": "code",
   "execution_count": null,
   "metadata": {},
   "outputs": [],
   "source": [
    "!wat2wasm --enable-exceptions test.wat"
   ]
  },
  {
   "cell_type": "code",
   "execution_count": null,
   "metadata": {},
   "outputs": [],
   "source": [
    "runwasm(\"test.wasm\")"
   ]
  },
  {
   "cell_type": "markdown",
   "metadata": {},
   "source": [
    "Now we trying to calculate `99/(34*5-170+3)`, which is `99/3`, and it should output `33` instead of raising exception."
   ]
  },
  {
   "cell_type": "markdown",
   "metadata": {},
   "source": [
    "Then run the cell below to execute the generated WebAssembly code."
   ]
  },
  {
   "cell_type": "code",
   "execution_count": null,
   "metadata": {},
   "outputs": [],
   "source": [
    "compileString(\"\"\"\n",
    "program DividedByZero\n",
    "    var a, b: integer\n",
    "        try\n",
    "            a := (34 × 5 - 170 + 3)\n",
    "            b := (99 div a)\n",
    "            write(b)\n",
    "        catch 111\n",
    "            write(111)\n",
    "        catchall\n",
    "\"\"\", 'test.wat')"
   ]
  },
  {
   "cell_type": "code",
   "execution_count": null,
   "metadata": {},
   "outputs": [],
   "source": [
    "!wat2wasm --enable-exceptions test.wat"
   ]
  },
  {
   "cell_type": "code",
   "execution_count": null,
   "metadata": {},
   "outputs": [],
   "source": [
    "runwasm(\"test.wasm\")"
   ]
  },
  {
   "cell_type": "markdown",
   "metadata": {},
   "source": [
    "### Mod by 0"
   ]
  },
  {
   "cell_type": "markdown",
   "metadata": {},
   "source": [
    "- The same logic goes under the `Mod by 0` exception, with the only difference of the exception tag as `112`.\n",
    "\n",
    "    The code below is trying to get `99 mod (34*5-170)`, which is `99 mod 0`, it should trigger implicit `throw 112` thus the statement under `catch 112` will be executed. The output is `112`."
   ]
  },
  {
   "cell_type": "markdown",
   "metadata": {},
   "source": [
    "Run the cell below to see the generated WebAssembly code."
   ]
  },
  {
   "cell_type": "code",
   "execution_count": null,
   "metadata": {
    "scrolled": true
   },
   "outputs": [],
   "source": [
    "# logic: if a == 0 then throw 112 else b := (99 mod a); write(b)\n",
    "compileString(\"\"\"\n",
    "program ModByZero\n",
    "    var a, b: integer\n",
    "        try\n",
    "            a := (34 × 5 - 170)\n",
    "            b := (99 mod a)\n",
    "            write(b)\n",
    "        catch 112\n",
    "            write(112)\n",
    "        catchall\n",
    "\"\"\")"
   ]
  },
  {
   "cell_type": "markdown",
   "metadata": {},
   "source": [
    "Then run the cell below to execute the generated WebAssembly code. The expected output is `112`."
   ]
  },
  {
   "cell_type": "code",
   "execution_count": null,
   "metadata": {},
   "outputs": [],
   "source": [
    "compileString(\"\"\"\n",
    "program ModByZero\n",
    "    var a, b: integer\n",
    "        try\n",
    "            a := (34 × 5 - 170)\n",
    "            b := (99 mod a)\n",
    "            write(b)\n",
    "        catch 112\n",
    "            write(112)\n",
    "        catchall\n",
    "\"\"\", 'test.wat')"
   ]
  },
  {
   "cell_type": "code",
   "execution_count": null,
   "metadata": {},
   "outputs": [],
   "source": [
    "!wat2wasm --enable-exceptions test.wat"
   ]
  },
  {
   "cell_type": "code",
   "execution_count": null,
   "metadata": {},
   "outputs": [],
   "source": [
    "runwasm(\"test.wasm\")"
   ]
  },
  {
   "cell_type": "markdown",
   "metadata": {},
   "source": [
    "Now we trying to calculate the remainder of `99/(34*5-170+5)`, which is `99/5`, and it should output `4` instead of raising exception."
   ]
  },
  {
   "cell_type": "code",
   "execution_count": null,
   "metadata": {},
   "outputs": [],
   "source": [
    "compileString(\"\"\"\n",
    "program ModByZero\n",
    "    var a, b: integer\n",
    "        try\n",
    "            a := (34 × 5 - 170 + 5)\n",
    "            b := (99 mod a)\n",
    "            write(b)\n",
    "        catch 112\n",
    "            write(112)\n",
    "        catchall\n",
    "\"\"\", 'test.wat')"
   ]
  },
  {
   "cell_type": "code",
   "execution_count": null,
   "metadata": {},
   "outputs": [],
   "source": [
    "!wat2wasm --enable-exceptions test.wat"
   ]
  },
  {
   "cell_type": "code",
   "execution_count": null,
   "metadata": {},
   "outputs": [],
   "source": [
    "runwasm(\"test.wasm\")"
   ]
  },
  {
   "cell_type": "markdown",
   "metadata": {},
   "source": [
    "### Index Out of Bounds Exception"
   ]
  },
  {
   "cell_type": "markdown",
   "metadata": {},
   "source": [
    "The `index out of bounds` exception is built-in with the exception tag of `110`. Below is an example."
   ]
  },
  {
   "cell_type": "markdown",
   "metadata": {},
   "source": [
    "\n",
    "Since the program is trying to access the index that is out of the bound, `throw 110` will be triggered and thus the statement under `catch 110` will be executed, therefore the output is `110`."
   ]
  },
  {
   "cell_type": "markdown",
   "metadata": {},
   "source": [
    "Run the cell below to see the generated WebAssembly code."
   ]
  },
  {
   "cell_type": "code",
   "execution_count": null,
   "metadata": {
    "scrolled": false
   },
   "outputs": [],
   "source": [
    "# logic: if (i < x.tp.lower) or (i >= x.tp.lower + x.tp.length) then throw else write(x[i])\n",
    "compileString(\"\"\"\n",
    "var x: [2 .. 4] → integer\n",
    "program IndexOutOfBounds\n",
    "    var i: integer\n",
    "    x[2] := 2; x[3] := 3; x[4] := 4\n",
    "    try\n",
    "        i := 5\n",
    "        write(x[i])\n",
    "    catch 110\n",
    "        write(110)\n",
    "    catchall\n",
    "\"\"\")"
   ]
  },
  {
   "cell_type": "markdown",
   "metadata": {},
   "source": [
    "Then run the cell below to execute the generated WebAssembly code."
   ]
  },
  {
   "cell_type": "code",
   "execution_count": null,
   "metadata": {},
   "outputs": [],
   "source": [
    "compileString(\"\"\"\n",
    "var x: [2 .. 4] → integer\n",
    "program IndexOutOfBounds\n",
    "    var i: integer\n",
    "    x[2] := 2; x[3] := 3; x[4] := 4\n",
    "    try\n",
    "        i := 5\n",
    "        write(x[i])\n",
    "    catch 110\n",
    "        write(110)\n",
    "    catchall\n",
    "\"\"\", 'test.wat')"
   ]
  },
  {
   "cell_type": "code",
   "execution_count": null,
   "metadata": {},
   "outputs": [],
   "source": [
    "!wat2wasm --enable-exceptions test.wat"
   ]
  },
  {
   "cell_type": "code",
   "execution_count": null,
   "metadata": {},
   "outputs": [],
   "source": [
    "runwasm(\"test.wasm\")"
   ]
  },
  {
   "cell_type": "markdown",
   "metadata": {},
   "source": [
    "What if the index is negative? The negative index is also out of bound, thus the output is still `110`."
   ]
  },
  {
   "cell_type": "code",
   "execution_count": null,
   "metadata": {},
   "outputs": [],
   "source": [
    "compileString(\"\"\"\n",
    "var x: [2 .. 4] → integer\n",
    "program IndexOutOfBounds\n",
    "    var i: integer\n",
    "    x[2] := 2; x[3] := 3; x[4] := 4\n",
    "    try\n",
    "        i := -5\n",
    "        write(x[i])\n",
    "    catch 110\n",
    "        write(110)\n",
    "    catchall\n",
    "\"\"\", 'test.wat')"
   ]
  },
  {
   "cell_type": "code",
   "execution_count": null,
   "metadata": {},
   "outputs": [],
   "source": [
    "!wat2wasm --enable-exceptions test.wat"
   ]
  },
  {
   "cell_type": "code",
   "execution_count": null,
   "metadata": {},
   "outputs": [],
   "source": [
    "runwasm(\"test.wasm\")"
   ]
  },
  {
   "cell_type": "markdown",
   "metadata": {},
   "source": [
    "If the index is valid, the output is `x[i]`"
   ]
  },
  {
   "cell_type": "code",
   "execution_count": null,
   "metadata": {},
   "outputs": [],
   "source": [
    "compileString(\"\"\"\n",
    "var x: [2 .. 4] → integer\n",
    "program IndexOutOfBounds\n",
    "    var i: integer\n",
    "    x[2] := 2; x[3] := 3; x[4] := 4\n",
    "    try\n",
    "        i := 2\n",
    "        write(x[i])\n",
    "    catch 110\n",
    "        write(110)\n",
    "    catchall\n",
    "\"\"\", 'test.wat')"
   ]
  },
  {
   "cell_type": "code",
   "execution_count": null,
   "metadata": {},
   "outputs": [],
   "source": [
    "!wat2wasm --enable-exceptions test.wat"
   ]
  },
  {
   "cell_type": "code",
   "execution_count": null,
   "metadata": {},
   "outputs": [],
   "source": [
    "runwasm(\"test.wasm\")"
   ]
  },
  {
   "cell_type": "code",
   "execution_count": null,
   "metadata": {},
   "outputs": [],
   "source": []
  }
 ],
 "metadata": {
  "kernelspec": {
   "display_name": "Python 3 (ipykernel)",
   "language": "python",
   "name": "python3"
  },
  "language_info": {
   "codemirror_mode": {
    "name": "ipython",
    "version": 3
   },
   "file_extension": ".py",
   "mimetype": "text/x-python",
   "name": "python",
   "nbconvert_exporter": "python",
   "pygments_lexer": "ipython3",
   "version": "3.9.12"
  }
 },
 "nbformat": 4,
 "nbformat_minor": 4
}
