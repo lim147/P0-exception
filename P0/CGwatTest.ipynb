{
 "cells": [
  {
   "cell_type": "markdown",
   "metadata": {},
   "source": [
    "### P0 WebAssembly Code Generator Tests\n",
    "\n",
    "#### Original Author: Emil Sekerinski, McMaster University, revised March 2021"
   ]
  },
  {
   "cell_type": "code",
   "execution_count": 1,
   "metadata": {},
   "outputs": [
    {
     "name": "stdout",
     "output_type": "stream",
     "text": [
      "Importing Jupyter notebook from P0.ipynb\n",
      "Importing Jupyter notebook from SC.ipynb\n",
      "Importing Jupyter notebook from ST.ipynb\n"
     ]
    }
   ],
   "source": [
    "import nbimporter; nbimporter.options[\"only_defs\"] = False\n",
    "from P0 import compileString\n",
    "from ST import printSymTab\n",
    "\n",
    "def runpywasm(wasmfile):\n",
    "    import pywasm\n",
    "    def write(s, i): print(i)\n",
    "    def writeln(s): print('\\n')\n",
    "    def read(s): return int(input())\n",
    "    vm = pywasm.load(wasmfile, {'P0lib': {'write': write, 'writeln': writeln, 'read': read}})"
   ]
  },
  {
   "cell_type": "markdown",
   "metadata": {},
   "source": [
    "#### Error: \"WASM: no local arrays, records\""
   ]
  },
  {
   "cell_type": "code",
   "execution_count": 4,
   "metadata": {},
   "outputs": [
    {
     "ename": "Exception",
     "evalue": "line 3 pos 26 WASM: no local arrays, records",
     "output_type": "error",
     "traceback": [
      "\u001b[0;31m---------------------------------------------------------------------------\u001b[0m",
      "\u001b[0;31mException\u001b[0m                                 Traceback (most recent call last)",
      "\u001b[0;32m~/05 Construction of a Parser/P0.ipynb\u001b[0m in \u001b[0;36mcompileString\u001b[0;34m(src, dstfn, target)\u001b[0m\n\u001b[1;32m      7\u001b[0m    },\n\u001b[0;32m----> 8\u001b[0;31m    \"source\": [\n\u001b[0m\u001b[1;32m      9\u001b[0m     \u001b[0;34m\"## The P0 Compiler\\n\"\u001b[0m\u001b[0;34m,\u001b[0m\u001b[0;34m\u001b[0m\u001b[0;34m\u001b[0m\u001b[0m\n",
      "\u001b[0;32m~/05 Construction of a Parser/P0.ipynb\u001b[0m in \u001b[0;36mprogram\u001b[0;34m()\u001b[0m\n\u001b[1;32m     15\u001b[0m    \u001b[0;34m\"cell_type\"\u001b[0m\u001b[0;34m:\u001b[0m \u001b[0;34m\"markdown\"\u001b[0m\u001b[0;34m,\u001b[0m\u001b[0;34m\u001b[0m\u001b[0;34m\u001b[0m\u001b[0m\n\u001b[0;32m---> 16\u001b[0;31m    \"metadata\": {\n\u001b[0m\u001b[1;32m     17\u001b[0m     \u001b[0;34m\"hidePrompt\"\u001b[0m\u001b[0;34m:\u001b[0m \u001b[0mtrue\u001b[0m\u001b[0;34m\u001b[0m\u001b[0;34m\u001b[0m\u001b[0m\n",
      "\u001b[0;32m~/05 Construction of a Parser/P0.ipynb\u001b[0m in \u001b[0;36mbody\u001b[0;34m(ident, parsize)\u001b[0m\n\u001b[1;32m      4\u001b[0m    \u001b[0;34m\"cell_type\"\u001b[0m\u001b[0;34m:\u001b[0m \u001b[0;34m\"markdown\"\u001b[0m\u001b[0;34m,\u001b[0m\u001b[0;34m\u001b[0m\u001b[0;34m\u001b[0m\u001b[0m\n\u001b[0;32m----> 5\u001b[0;31m    \"metadata\": {\n\u001b[0m\u001b[1;32m      6\u001b[0m     \u001b[0;34m\"hidePrompt\"\u001b[0m\u001b[0;34m:\u001b[0m \u001b[0mtrue\u001b[0m\u001b[0;34m\u001b[0m\u001b[0;34m\u001b[0m\u001b[0m\n",
      "\u001b[0;32m~/05 Construction of a Parser/P0.ipynb\u001b[0m in \u001b[0;36mdeclarations\u001b[0;34m(allocVar)\u001b[0m\n\u001b[1;32m     20\u001b[0m     \u001b[0;34m\"This collection of _Jupyter notebooks_ develops a compiler for P0, a programming langauge inspired by Pascal, a language designed for ease of compilation. The differences to Pascal are that indentation is used for bracketing, there are only value and result parameters (no reference parameters), multiple assignments are allowed, the syntax for procedure calls, procedure declarations, array declarations, and record declarations is different, and Unicode characters are used. The compiler currently generates WebAssebmbly and MIPS code, but is modularized to facilitate other targets. WebAssembly is representive of stack-based virtual machines while the MIPS architecture is representative of Reduced Instruction Set Computing (RISC) processors.\\n\"\u001b[0m\u001b[0;34m,\u001b[0m\u001b[0;34m\u001b[0m\u001b[0;34m\u001b[0m\u001b[0m\n\u001b[0;32m---> 21\u001b[0;31m     \u001b[0;34m\"\\n\"\u001b[0m\u001b[0;34m,\u001b[0m\u001b[0;34m\u001b[0m\u001b[0;34m\u001b[0m\u001b[0m\n\u001b[0m\u001b[1;32m     22\u001b[0m     \u001b[0;34m\"### The P0 Language\\n\"\u001b[0m\u001b[0;34m,\u001b[0m\u001b[0;34m\u001b[0m\u001b[0;34m\u001b[0m\u001b[0m\n",
      "\u001b[0;32m~/05 Construction of a Parser/CGwat.ipynb\u001b[0m in \u001b[0;36mgenLocalVars\u001b[0;34m(sc, start)\u001b[0m\n\u001b[1;32m     16\u001b[0m     \u001b[0;34m\"- `genLeftAssign`, `genRightAssign`, `genAssign`, `genActualPara`, `genCall`\\n\"\u001b[0m\u001b[0;34m,\u001b[0m\u001b[0;34m\u001b[0m\u001b[0;34m\u001b[0m\u001b[0m\n\u001b[0;32m---> 17\u001b[0;31m     \u001b[0;34m\"- `genRead`, `genWrite`, `genWriteln`\\n\"\u001b[0m\u001b[0;34m,\u001b[0m\u001b[0;34m\u001b[0m\u001b[0;34m\u001b[0m\u001b[0m\n\u001b[0m\u001b[1;32m     18\u001b[0m     \u001b[0;34m\"- `genSeq`, `genThen`, `genIfThen`, `genElse`, `genIfElse`, `genWhile`, `genDo`, `genWhileDo`\\n\"\u001b[0m\u001b[0;34m,\u001b[0m\u001b[0;34m\u001b[0m\u001b[0;34m\u001b[0m\u001b[0m\n",
      "\u001b[0;32m~/05 Construction of a Parser/SC.ipynb\u001b[0m in \u001b[0;36mmark\u001b[0;34m(msg)\u001b[0m\n\u001b[1;32m      1\u001b[0m {\n\u001b[0;32m----> 2\u001b[0;31m  \"cells\": [\n\u001b[0m\u001b[1;32m      3\u001b[0m   {\n",
      "\u001b[0;31mException\u001b[0m: line 3 pos 26 WASM: no local arrays, records",
      "\nDuring handling of the above exception, another exception occurred:\n",
      "\u001b[0;31mException\u001b[0m                                 Traceback (most recent call last)",
      "\u001b[0;32m<ipython-input-4-8c537f3267e5>\u001b[0m in \u001b[0;36m<module>\u001b[0;34m\u001b[0m\n\u001b[0;32m----> 1\u001b[0;31m compileString(\"\"\"\n\u001b[0m\u001b[1;32m      2\u001b[0m \u001b[0mprogram\u001b[0m \u001b[0mp\u001b[0m\u001b[0;34m\u001b[0m\u001b[0;34m\u001b[0m\u001b[0m\n\u001b[1;32m      3\u001b[0m   \u001b[0mvar\u001b[0m \u001b[0ma\u001b[0m\u001b[0;34m:\u001b[0m \u001b[0;34m[\u001b[0m\u001b[0;36m1.\u001b[0m\u001b[0;36m.10\u001b[0m\u001b[0;34m]\u001b[0m\u001b[0;31m \u001b[0m\u001b[0;31m→\u001b[0m \u001b[0minteger\u001b[0m\u001b[0;34m\u001b[0m\u001b[0;34m\u001b[0m\u001b[0m\n\u001b[1;32m      4\u001b[0m \"\"\", target = 'wat')\n",
      "\u001b[0;32m~/05 Construction of a Parser/P0.ipynb\u001b[0m in \u001b[0;36mcompileString\u001b[0;34m(src, dstfn, target)\u001b[0m\n\u001b[1;32m     11\u001b[0m     \u001b[0;34m\"#### Emil Sekerinski, revised February 2022\"\u001b[0m\u001b[0;34m\u001b[0m\u001b[0;34m\u001b[0m\u001b[0m\n\u001b[1;32m     12\u001b[0m    ]\n\u001b[0;32m---> 13\u001b[0;31m   },\n\u001b[0m\u001b[1;32m     14\u001b[0m   {\n\u001b[1;32m     15\u001b[0m    \u001b[0;34m\"cell_type\"\u001b[0m\u001b[0;34m:\u001b[0m \u001b[0;34m\"markdown\"\u001b[0m\u001b[0;34m,\u001b[0m\u001b[0;34m\u001b[0m\u001b[0;34m\u001b[0m\u001b[0m\n",
      "\u001b[0;31mException\u001b[0m: line 3 pos 26 WASM: no local arrays, records"
     ]
    }
   ],
   "source": [
    "compileString(\"\"\"\n",
    "program p\n",
    "  var a: [1..10] → integer\n",
    "\"\"\", target = 'wat')"
   ]
  },
  {
   "cell_type": "markdown",
   "metadata": {},
   "source": [
    "#### Error: \"WASM: no nested procedures\""
   ]
  },
  {
   "cell_type": "code",
   "execution_count": null,
   "metadata": {},
   "outputs": [],
   "source": [
    "compileString(\"\"\"\n",
    "program p\n",
    "  procedure q()\n",
    "    write(5)\n",
    "  q()\n",
    "\"\"\", target = 'wat')"
   ]
  },
  {
   "cell_type": "markdown",
   "metadata": {},
   "source": [
    "#### Error: \"WASM: no structured value parameters\""
   ]
  },
  {
   "cell_type": "code",
   "execution_count": null,
   "metadata": {},
   "outputs": [],
   "source": [
    "compileString(\"\"\"\n",
    "type A = [1..10] → integer\n",
    "procedure q(f: A)\n",
    "  write(5)\n",
    "program p\n",
    "  writeln()\n",
    "\"\"\")"
   ]
  },
  {
   "cell_type": "markdown",
   "metadata": {},
   "source": [
    "#### Error: \"WASM: no structured result parameters\""
   ]
  },
  {
   "cell_type": "code",
   "execution_count": null,
   "metadata": {},
   "outputs": [],
   "source": [
    "compileString(\"\"\"\n",
    "type A = [1..10] → integer\n",
    "procedure q() → (f: A)\n",
    "  write(5)\n",
    "program p\n",
    "  writeln()\n",
    "\"\"\")"
   ]
  },
  {
   "cell_type": "markdown",
   "metadata": {},
   "source": [
    "#### Assignment\n",
    "```\n",
    "(module\n",
    "(import \"P0lib\" \"write\" (func $write (param i32)))\n",
    "(import \"P0lib\" \"writeln\" (func $writeln))\n",
    "(import \"P0lib\" \"read\" (func $read (result i32)))\n",
    "(func $program\n",
    "(local $x i32)\n",
    "call $read\n",
    "local.set $x\n",
    "i32.const 3\n",
    "local.get $x\n",
    "i32.mul\n",
    "local.set $x\n",
    "local.get $x\n",
    "call $write\n",
    "call $writeln\n",
    "local.get $x\n",
    "i32.const 5\n",
    "i32.mul\n",
    "call $write\n",
    ")\n",
    "(memory 1)\n",
    "(start $program)\n",
    ")\n",
    "```"
   ]
  },
  {
   "cell_type": "code",
   "execution_count": null,
   "metadata": {},
   "outputs": [],
   "source": [
    "compileString(\"\"\"\n",
    "var a: [2 .. 9] → integer\n",
    "program p\n",
    "  var x, y: integer\n",
    "    a[3] := 5\n",
    "    x, y := a[3], 7\n",
    "    x, y := y, x\n",
    "    write(x); write(y) // writes 7, 5\n",
    "\"\"\", 'assign.wat', target = 'wat')"
   ]
  },
  {
   "cell_type": "code",
   "execution_count": null,
   "metadata": {},
   "outputs": [],
   "source": [
    "!wat2wasm assign.wat"
   ]
  },
  {
   "cell_type": "code",
   "execution_count": null,
   "metadata": {},
   "outputs": [],
   "source": [
    "runpywasm('assign.wasm')"
   ]
  },
  {
   "cell_type": "markdown",
   "metadata": {},
   "source": [
    "#### Relational Operators\n",
    "\n",
    "```\n",
    "(module\n",
    "(import \"P0lib\" \"write\" (func $write (param i32)))\n",
    "(import \"P0lib\" \"writeln\" (func $writeln))\n",
    "(import \"P0lib\" \"read\" (func $read (result i32)))\n",
    "(func $q (param $b i32) \n",
    "local.get $b\n",
    "i32.const 0\n",
    "i32.eq\n",
    "local.set $b\n",
    ")\n",
    "(func $program\n",
    "(local $x i32)\n",
    "local.get $x\n",
    "i32.const 7\n",
    "i32.gt_s\n",
    "call $q\n",
    ")\n",
    "(memory 1)\n",
    "(start $program)\n",
    ")\n",
    "```"
   ]
  },
  {
   "cell_type": "code",
   "execution_count": null,
   "metadata": {},
   "outputs": [],
   "source": [
    "compileString(\"\"\"\n",
    "procedure q(b: boolean)\n",
    "  b := b = false\n",
    "program p\n",
    "  var x: integer\n",
    "    q(x > 7)\n",
    "\"\"\", 'relop.wat', target = 'wat')"
   ]
  },
  {
   "cell_type": "code",
   "execution_count": null,
   "metadata": {},
   "outputs": [],
   "source": [
    "!wat2wasm relop.wat"
   ]
  },
  {
   "cell_type": "markdown",
   "metadata": {},
   "source": [
    "#### Input & Output\n",
    "```\n",
    "(module\n",
    "(import \"P0lib\" \"write\" (func $write (param i32)))\n",
    "(import \"P0lib\" \"writeln\" (func $writeln))\n",
    "(import \"P0lib\" \"read\" (func $read (result i32)))\n",
    "(func $program\n",
    "(local $x i32)\n",
    "call $read\n",
    "local.set $x\n",
    "i32.const 3\n",
    "local.get $x\n",
    "i32.mul\n",
    "local.set $x\n",
    "local.get $x\n",
    "call $write\n",
    "call $writeln\n",
    "local.get $x\n",
    "i32.const 5\n",
    "i32.mul\n",
    "call $write\n",
    ")\n",
    "(memory 1)\n",
    "(start $program)\n",
    ")\n",
    "```"
   ]
  },
  {
   "cell_type": "code",
   "execution_count": null,
   "metadata": {},
   "outputs": [],
   "source": [
    "compileString(\"\"\"\n",
    "program p\n",
    "  var x: integer\n",
    "    x ← read(); x := 3 × x\n",
    "    write(x); writeln()\n",
    "    write(x × 5)\n",
    "\"\"\", 'write.wat', target = 'wat')"
   ]
  },
  {
   "cell_type": "code",
   "execution_count": null,
   "metadata": {},
   "outputs": [],
   "source": [
    "!wat2wasm write.wat"
   ]
  },
  {
   "cell_type": "markdown",
   "metadata": {},
   "source": [
    "#### Parameter Passing\n",
    "```\n",
    "(module\n",
    "(import \"P0lib\" \"write\" (func $write (param i32)))\n",
    "(import \"P0lib\" \"writeln\" (func $writeln))\n",
    "(import \"P0lib\" \"read\" (func $read (result i32)))\n",
    "(func $q (param $b i32) (param $c i32) \n",
    "local.get $b\n",
    "call $write\n",
    "local.get $c\n",
    "call $write\n",
    ")\n",
    "(func $r  (result i32)\n",
    "(local $d i32)\n",
    "i32.const 8\n",
    "i32.const 9\n",
    "i32.store\n",
    "i32.const 5\n",
    "local.set $d\n",
    "local.get $d)\n",
    "(func $program\n",
    "(local $x i32)\n",
    "i32.const 4\n",
    "i32.const 7\n",
    "i32.store\n",
    "i32.const 3\n",
    "i32.const 4\n",
    "i32.load\n",
    "call $q\n",
    "call $r\n",
    "local.set $x\n",
    "local.get $x\n",
    "call $write\n",
    "i32.const 8\n",
    "i32.load\n",
    "call $write\n",
    ")\n",
    "(memory 1)\n",
    "(start $program)\n",
    ")\n",
    "```"
   ]
  },
  {
   "cell_type": "code",
   "execution_count": null,
   "metadata": {},
   "outputs": [],
   "source": [
    "compileString(\"\"\"\n",
    "type T = [1..10] → integer\n",
    "var a: T\n",
    "procedure q(b: integer, c: integer)\n",
    "    write(b); write(c)\n",
    "procedure r() → (d: integer)\n",
    "    a[3] := 9; d := 5\n",
    "program p\n",
    "  var x: integer\n",
    "  a[2] := 7; q(3, a[2]) // writes 3, 7\n",
    "  x ← r(); write(x); write(a[3]) // writes 5, 9\n",
    "\"\"\", 'params.wat', target = 'wat')"
   ]
  },
  {
   "cell_type": "code",
   "execution_count": null,
   "metadata": {},
   "outputs": [],
   "source": [
    "!wat2wasm params.wat"
   ]
  },
  {
   "cell_type": "code",
   "execution_count": null,
   "metadata": {},
   "outputs": [],
   "source": [
    "runpywasm('params.wasm')"
   ]
  },
  {
   "cell_type": "markdown",
   "metadata": {},
   "source": [
    "#### Arrays and Records"
   ]
  },
  {
   "cell_type": "code",
   "execution_count": null,
   "metadata": {},
   "outputs": [],
   "source": [
    "compileString(\"\"\"\n",
    "type A = [1 .. 7] → integer\n",
    "type R = (f: integer, g: A, h: integer)\n",
    "var v: A\n",
    "var w: R\n",
    "var x: integer\n",
    "program p\n",
    "  x := 9;\n",
    "  w.h := 12 - 7; write(w.h) // writes 5\n",
    "  v[1] := 3; write(v[x - 8]) //writes 3\n",
    "  w.g[x div 3] := 9; write(w.g[3]) // writes 9\n",
    "  v[x - 2] := 7; w.g[x - 3] := 7\n",
    "  write(v[7]); write(w.g[6]) // writes 7, 7\n",
    "\"\"\", 'arrayrec.wat', target = 'wat')"
   ]
  },
  {
   "cell_type": "code",
   "execution_count": null,
   "metadata": {},
   "outputs": [],
   "source": [
    "!wat2wasm arrayrec.wat"
   ]
  },
  {
   "cell_type": "code",
   "execution_count": null,
   "metadata": {},
   "outputs": [],
   "source": [
    "runpywasm('arrayrec.wasm')"
   ]
  },
  {
   "cell_type": "markdown",
   "metadata": {},
   "source": [
    "#### Sets"
   ]
  },
  {
   "cell_type": "markdown",
   "metadata": {},
   "source": [
    "#### Booleans and Conditions"
   ]
  },
  {
   "cell_type": "code",
   "execution_count": null,
   "metadata": {},
   "outputs": [],
   "source": [
    "compileString(\"\"\"\n",
    "program p\n",
    "  const five = 5\n",
    "  const seven = 7\n",
    "  const always = true\n",
    "  const never = false\n",
    "  var x, y, z: integer\n",
    "  var b, t, f: boolean\n",
    "    x := seven; y := 9; z := 11; t := true; f := false\n",
    "    if true then write(7) else write(9)    // writes 7\n",
    "    if false then write(7) else write(9)   // writes 9\n",
    "    if t then write(7) else write(9)       // writes 7\n",
    "    if f then write(7) else write(9)       // writes 9\n",
    "    if ¬ t then write(7) else write(9)     // writes 9\n",
    "    if ¬ f then write(7) else write(9)     // writes 7\n",
    "    if t or t then write(7) else write(9)  // writes 7\n",
    "    if t or f then write(7) else write(9)  // writes 7\n",
    "    if f or t then write(7) else write(9)  // writes 7\n",
    "    if f or f then write(7) else write(9)  // writes 9\n",
    "    if t and t then write(7) else write(9) // writes 7\n",
    "    if t and f then write(7) else write(9) // writes 9\n",
    "    if f and t then write(7) else write(9) // writes 9\n",
    "    if f and f then write(7) else write(9) // writes 9\n",
    "    writeln()\n",
    "    b := true\n",
    "    if b then write(3) else write(5) // writes 3\n",
    "    b := false\n",
    "    if b then write(3) else write(5) // writes 5\n",
    "    b := x < y\n",
    "    if b then write(x) else write(y) // writes 7\n",
    "    b := (x > y) or t\n",
    "    if b then write(3) else write(5) // writes 3\n",
    "    b := (x > y) or f\n",
    "    if b then write(3) else write(5) // writes 5\n",
    "    b := (x = y) or (x > y)\n",
    "    if b then write(3) else write(5) // writes 5\n",
    "    b := (x = y) or (x < y)\n",
    "    if b then write(3) else write(5) // writes 3\n",
    "    b := f and (x ≥ y)\n",
    "    if b then write(3) else write(5) // writes 5\n",
    "    writeln()\n",
    "    while y > 3 do                   // writes 9, 8, 7, 6, 5, 4\n",
    "      write(y); y := y - 1\n",
    "    write(y); writeln()              // writes 3\n",
    "    if ¬(x < y) and t then\n",
    "      write(x)                       // writes 7\n",
    "\"\"\", 'cond.wat', target = 'wat')"
   ]
  },
  {
   "cell_type": "code",
   "execution_count": null,
   "metadata": {},
   "outputs": [],
   "source": [
    "!wat2wasm cond.wat"
   ]
  },
  {
   "cell_type": "code",
   "execution_count": null,
   "metadata": {},
   "outputs": [],
   "source": [
    "runpywasm('cond.wasm')"
   ]
  },
  {
   "cell_type": "markdown",
   "metadata": {},
   "source": [
    "#### Constant Folding, Local & Global Variables\n",
    "\n",
    "```\n",
    "(module\n",
    "(import \"P0lib\" \"write\" (func $write (param i32)))\n",
    "(import \"P0lib\" \"writeln\" (func $writeln))\n",
    "(import \"P0lib\" \"read\" (func $read (result i32)))\n",
    "(global $x (mut i32) i32.const 0)\n",
    "(global $y (mut i32) i32.const 0)\n",
    "(func $q  \n",
    "(local $x i32)\n",
    "i32.const 3\n",
    "local.set $x\n",
    "i32.const 1\n",
    "if\n",
    "local.get $x\n",
    "global.set $y\n",
    "else\n",
    "i32.const 7\n",
    "global.set $y\n",
    "end\n",
    "global.get $y\n",
    "call $write\n",
    "i32.const 0\n",
    "if\n",
    "local.get $x\n",
    "global.set $y\n",
    "else\n",
    "i32.const 7\n",
    "global.set $y\n",
    "end\n",
    "global.get $y\n",
    "call $write\n",
    "i32.const 1\n",
    "if\n",
    "local.get $x\n",
    "global.set $y\n",
    "else\n",
    "i32.const 7\n",
    "global.set $y\n",
    "end\n",
    "global.get $y\n",
    "call $write\n",
    "i32.const 0\n",
    "if\n",
    "local.get $x\n",
    "global.set $y\n",
    "else\n",
    "i32.const 7\n",
    "global.set $y\n",
    "end\n",
    "global.get $y\n",
    "call $write\n",
    "i32.const 0\n",
    "if\n",
    "i32.const 5\n",
    "call $write\n",
    "else\n",
    "i32.const 9\n",
    "call $write\n",
    "end\n",
    ")\n",
    "(func $program\n",
    "i32.const 7\n",
    "global.set $x\n",
    "call $q\n",
    "global.get $x\n",
    "call $write\n",
    ")\n",
    "(memory 1)\n",
    "(start $program)\n",
    ")\n",
    "```"
   ]
  },
  {
   "cell_type": "code",
   "execution_count": null,
   "metadata": {},
   "outputs": [],
   "source": [
    "compileString(\"\"\"\n",
    "const seven = (9 mod 3 + 5 × 3) div 2\n",
    "type int = integer\n",
    "var x, y: integer\n",
    "procedure q()\n",
    "  const sotrue = true and true\n",
    "  const sofalse = false and true\n",
    "  const alsotrue = false or true\n",
    "  const alsofalse = false or false\n",
    "  var x: int\n",
    "    x := 3\n",
    "    if sotrue then y := x else y := seven\n",
    "    write(y) // writes 3\n",
    "    if sofalse then y := x else y := seven\n",
    "    write(y) // writes 7\n",
    "    if alsotrue then y := x else y := seven\n",
    "    write(y) // writes 3\n",
    "    if alsofalse then y := x else y := seven\n",
    "    write(y) // writes 7\n",
    "    if ¬(true or false) then write(5) else write(9) // writes 9\n",
    "program p\n",
    "  x := 7; q(); write(x) // writes 7\n",
    "\"\"\", 'folding.wat', target = 'wat')"
   ]
  },
  {
   "cell_type": "code",
   "execution_count": null,
   "metadata": {},
   "outputs": [],
   "source": [
    "!wat2wasm folding.wat"
   ]
  },
  {
   "cell_type": "code",
   "execution_count": null,
   "metadata": {},
   "outputs": [],
   "source": [
    "runpywasm('folding.wasm')"
   ]
  },
  {
   "cell_type": "markdown",
   "metadata": {},
   "source": [
    "#### Procedures\n",
    "```\n",
    "(module\n",
    "(import \"P0lib\" \"write\" (func $write (param i32)))\n",
    "(import \"P0lib\" \"writeln\" (func $writeln))\n",
    "(import \"P0lib\" \"read\" (func $read (result i32)))\n",
    "(global $g (mut i32) i32.const 0)\n",
    "(func $q (param $v i32) \n",
    "(local $l i32)\n",
    "i32.const 9\n",
    "local.set $l\n",
    "local.get $l\n",
    "local.get $v\n",
    "i32.gt_s\n",
    "if\n",
    "local.get $l\n",
    "call $write\n",
    "else\n",
    "global.get $g\n",
    "call $write\n",
    "end\n",
    ")\n",
    "(func $program\n",
    "i32.const 5\n",
    "global.set $g\n",
    "i32.const 7\n",
    "call $q\n",
    ")\n",
    "(memory 1)\n",
    "(start $program)\n",
    ")\n",
    "```"
   ]
  },
  {
   "cell_type": "code",
   "execution_count": null,
   "metadata": {},
   "outputs": [],
   "source": [
    "compileString(\"\"\"\n",
    "var g: integer          // global variable\n",
    "procedure q(v: integer) // value parameter\n",
    "  var l: integer        // local variable\n",
    "    l := 9\n",
    "    if l > v then write(l)\n",
    "    else write(g)\n",
    "program p\n",
    "  g := 5; q(7)\n",
    "\"\"\", 'proc.wat', target = 'wat')"
   ]
  },
  {
   "cell_type": "code",
   "execution_count": null,
   "metadata": {},
   "outputs": [],
   "source": [
    "!wat2wasm proc.wat"
   ]
  },
  {
   "cell_type": "code",
   "execution_count": null,
   "metadata": {},
   "outputs": [],
   "source": [
    "runpywasm('proc.wasm')"
   ]
  },
  {
   "cell_type": "markdown",
   "metadata": {},
   "source": [
    "#### Illustrating Lack of Optimization\n",
    "```\n",
    "(module\n",
    "(import \"P0lib\" \"write\" (func $write (param i32)))\n",
    "(import \"P0lib\" \"writeln\" (func $writeln))\n",
    "(import \"P0lib\" \"read\" (func $read (result i32)))\n",
    "(func $program\n",
    "(local $x i32)\n",
    "i32.const 5\n",
    "local.set $x\n",
    "local.get $x\n",
    "i32.const 0\n",
    "i32.add\n",
    "local.set $x\n",
    "i32.const 0\n",
    "local.get $x\n",
    "i32.add\n",
    "local.set $x\n",
    "local.get $x\n",
    "i32.const 1\n",
    "i32.mul\n",
    "local.set $x\n",
    "i32.const 1\n",
    "local.get $x\n",
    "i32.mul\n",
    "local.set $x\n",
    "local.get $x\n",
    "i32.const 3\n",
    "i32.add\n",
    "local.set $x\n",
    "i32.const 3\n",
    "local.get $x\n",
    "i32.add\n",
    "local.set $x\n",
    ")\n",
    "(memory 1)\n",
    "(start $program)\n",
    ")\n",
    "```"
   ]
  },
  {
   "cell_type": "code",
   "execution_count": null,
   "metadata": {},
   "outputs": [],
   "source": [
    "compileString(\"\"\"\n",
    "program p\n",
    "  var x: integer\n",
    "    x := 5\n",
    "    x := x + 0\n",
    "    x := 0 + x\n",
    "    x := x × 1\n",
    "    x := 1 × x\n",
    "    x := x + 3\n",
    "    x := 3 + x\n",
    "\"\"\", 'opt.wat', target = 'wat')"
   ]
  },
  {
   "cell_type": "code",
   "execution_count": null,
   "metadata": {},
   "outputs": [],
   "source": [
    "!wat2wasm opt.wat"
   ]
  },
  {
   "cell_type": "markdown",
   "metadata": {},
   "source": [
    "#### Two-dimensional Array\n",
    "```\n",
    "(module\n",
    "(import \"P0lib\" \"write\" (func $write (param i32)))\n",
    "(import \"P0lib\" \"writeln\" (func $writeln))\n",
    "(import \"P0lib\" \"read\" (func $read (result i32)))\n",
    "(global $y (mut i32) i32.const 0)\n",
    "(global $b (mut i32) i32.const 0)\n",
    "(func $program\n",
    "global.get $y\n",
    "i32.const 3\n",
    "i32.sub\n",
    "i32.const 11\n",
    "i32.mul\n",
    "i32.const 0\n",
    "i32.add\n",
    "i32.const 4\n",
    "i32.add\n",
    "i32.const 0\n",
    "i32.store\n",
    "global.get $y\n",
    "i32.const 3\n",
    "i32.sub\n",
    "i32.const 11\n",
    "i32.mul\n",
    "i32.const 0\n",
    "i32.add\n",
    "global.get $y\n",
    "i32.const 1\n",
    "i32.add\n",
    "i32.const 1\n",
    "i32.sub\n",
    "i32.const 1\n",
    "i32.mul\n",
    "i32.add\n",
    "i32.load\n",
    "global.set $b\n",
    ")\n",
    "(memory 1)\n",
    "(start $program)\n",
    ")\n",
    "```"
   ]
  },
  {
   "cell_type": "code",
   "execution_count": null,
   "metadata": {},
   "outputs": [],
   "source": [
    "compileString(\"\"\"\n",
    "type R = boolean\n",
    "type S = [1..11] → R\n",
    "type T = [3..9] → S\n",
    "var x: T\n",
    "var y: integer\n",
    "var b: boolean\n",
    "program p\n",
    "  x[y][5] := false\n",
    "  b := x[y][y + 1]\n",
    "\"\"\", 'twoD.wat', target = 'wat')"
   ]
  },
  {
   "cell_type": "code",
   "execution_count": null,
   "metadata": {},
   "outputs": [],
   "source": [
    "!wat2wasm twoD.wat"
   ]
  },
  {
   "cell_type": "markdown",
   "metadata": {},
   "source": [
    "#### Sets"
   ]
  },
  {
   "cell_type": "code",
   "execution_count": null,
   "metadata": {},
   "outputs": [],
   "source": [
    "compileString(\"\"\"\n",
    "type S = set [1..10]\n",
    "procedure elements(s: S)\n",
    "  var i: integer\n",
    "    writeln(); i := 0\n",
    "    while i < 32 do\n",
    "      if i ∈ s then write(i)\n",
    "      i := i + 1\n",
    "procedure difference(s: S, t: S) → (u: S)\n",
    "  u := s ∩ ∁t\n",
    "program p\n",
    "  var s: S\n",
    "    s := {3}; elements(s) // writes 3\n",
    "    s := s ∪ {1, 9}; elements(s) // writes 1, 3, 9\n",
    "    s := ∁s; elements(s) // writes 2, 4, 5, 6, 7, 8, 10\n",
    "    s := s ∩ {5, 7, 9}; elements(s) // writes 5, 7\n",
    "    s ← difference(s, {7, 8, 9}); elements(s) // writes 5\n",
    "    writeln(); if s ⊆ {2, 5, 20} then write(#s) // writes 1\n",
    "    if {2, 5} ⊆ s then write(-1) else write(-2) // writes -2\n",
    "    \n",
    "\"\"\", 'sets.wat', target = 'wat')"
   ]
  },
  {
   "cell_type": "code",
   "execution_count": null,
   "metadata": {},
   "outputs": [],
   "source": [
    "!wat2wasm sets.wat"
   ]
  },
  {
   "cell_type": "code",
   "execution_count": null,
   "metadata": {},
   "outputs": [],
   "source": [
    "runpywasm('sets.wasm')"
   ]
  }
 ],
 "metadata": {
  "kernelspec": {
   "display_name": "Python 3",
   "language": "python",
   "name": "python3"
  },
  "language_info": {
   "codemirror_mode": {
    "name": "ipython",
    "version": 3
   },
   "file_extension": ".py",
   "mimetype": "text/x-python",
   "name": "python",
   "nbconvert_exporter": "python",
   "pygments_lexer": "ipython3",
   "version": "3.8.8"
  },
  "toc": {
   "base_numbering": 1,
   "nav_menu": {},
   "number_sections": false,
   "sideBar": false,
   "skip_h1_title": true,
   "title_cell": "Table of Contents",
   "title_sidebar": "Contents",
   "toc_cell": false,
   "toc_position": {},
   "toc_section_display": true,
   "toc_window_display": false
  }
 },
 "nbformat": 4,
 "nbformat_minor": 2
}
